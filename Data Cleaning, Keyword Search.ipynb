{
 "cells": [
  {
   "cell_type": "code",
   "execution_count": 1,
   "id": "b7fd042a",
   "metadata": {},
   "outputs": [],
   "source": [
    "import pandas as pd\n",
    "import re\n",
    "import spacy"
   ]
  },
  {
   "cell_type": "code",
   "execution_count": 11,
   "id": "bb391686",
   "metadata": {},
   "outputs": [],
   "source": [
    "thinktank_df = pd.read_csv(\"./data/citations_data/thinktank_citations_tdm.csv\", index_col=0)"
   ]
  },
  {
   "cell_type": "markdown",
   "id": "45127bd1",
   "metadata": {},
   "source": [
    "# Data Cleaning"
   ]
  },
  {
   "cell_type": "code",
   "execution_count": 3,
   "id": "22c2b8e9",
   "metadata": {},
   "outputs": [],
   "source": [
    "# 38 North is owned by the Stimson Center\n",
    "#thinktank_df['thinktank'] = thinktank_df['thinktank'].apply(lambda x: 'Henry L. Stimson Center' if x == '38 North' else x)\n",
    "\n",
    "# Progressive Policy Institute is another name for Third Way\n",
    "#thinktank_df['thinktank'] = thinktank_df['thinktank'].apply(lambda x: 'Third Way' if x == 'Progressive Policy Institute' else x)\n",
    "\n",
    "# Global Trade Watch is part of Public Citizen\n",
    "#thinktank_df['thinktank'] = thinktank_df['thinktank'].apply(lambda x: 'Public Citizen' if x == 'Global Trade Watch' else x)\n",
    "\n",
    "# Catholic Family and Human Rights Institute = Center for Family and Human Rights\n",
    "#thinktank_df['thinktank'] = thinktank_df['thinktank'].apply(lambda x: 'Center for Family and Human Rights' if x == 'Catholic Family and Human Rights Institute' else x)\n",
    "\n",
    "# Henry L. Stimson Center = The Stimson Center\n",
    "#thinktank_df['thinktank'] = thinktank_df['thinktank'].apply(lambda x: 'The Stimson Center' if x == 'Henry L. Stimson Center' else x)"
   ]
  },
  {
   "cell_type": "code",
   "execution_count": 57,
   "id": "5c0c26b7",
   "metadata": {},
   "outputs": [],
   "source": [
    "def remove_html_tags(text):\n",
    "    clean = re.compile('<.*?>')\n",
    "    no_tags = re.sub(clean, '', text)\n",
    "    return no_tags.strip()"
   ]
  },
  {
   "cell_type": "code",
   "execution_count": 58,
   "id": "25930fe7",
   "metadata": {},
   "outputs": [],
   "source": [
    "thinktank_df['sentence_clean'] = thinktank_df['sentence'].apply(remove_html_tags)"
   ]
  },
  {
   "cell_type": "code",
   "execution_count": 59,
   "id": "1126ade6",
   "metadata": {},
   "outputs": [],
   "source": [
    "thinktank_df['year']=pd.to_datetime(thinktank_df['date']).apply(lambda x: x.year)"
   ]
  },
  {
   "cell_type": "markdown",
   "id": "dbba99ad",
   "metadata": {},
   "source": [
    "# Topic Tagging w/ Keywords"
   ]
  },
  {
   "cell_type": "markdown",
   "id": "655f8138",
   "metadata": {},
   "source": [
    "## International Country Mentions"
   ]
  },
  {
   "cell_type": "code",
   "execution_count": 60,
   "id": "78300f6a",
   "metadata": {},
   "outputs": [],
   "source": [
    "import pycountry"
   ]
  },
  {
   "cell_type": "code",
   "execution_count": 61,
   "id": "38a6be27",
   "metadata": {},
   "outputs": [],
   "source": [
    "nlp = spacy.load(\"en_core_web_sm\")"
   ]
  },
  {
   "cell_type": "code",
   "execution_count": 62,
   "id": "b0944e49",
   "metadata": {},
   "outputs": [],
   "source": [
    "def get_international(txt):\n",
    "    doc = nlp(txt)\n",
    "    for ent in doc.ents:\n",
    "        if 'saudi' in txt.lower():\n",
    "            return 'Saudi Arabia'\n",
    "        if ent.label_ == 'GPE':\n",
    "            try:\n",
    "                match = pycountry.countries.search_fuzzy(ent.text)[0].name\n",
    "                if match == 'United States' or match == 'Virgin Islands, U.S.':\n",
    "                    continue\n",
    "                return match\n",
    "            except:\n",
    "                continue"
   ]
  },
  {
   "cell_type": "code",
   "execution_count": 63,
   "id": "11d7bf2d",
   "metadata": {},
   "outputs": [],
   "source": [
    "thinktank_df['international_mention'] = thinktank_df['sentence_clean'].apply(get_international)"
   ]
  },
  {
   "cell_type": "code",
   "execution_count": 64,
   "id": "fb03dbf3",
   "metadata": {},
   "outputs": [],
   "source": [
    "thinktank_df.to_csv(\"./data/citations_data/thinktank_citations_tagged.csv\")"
   ]
  },
  {
   "cell_type": "markdown",
   "id": "558102d4",
   "metadata": {},
   "source": [
    "## Tagging Other Topics"
   ]
  },
  {
   "cell_type": "code",
   "execution_count": 65,
   "id": "5b5c5b91",
   "metadata": {},
   "outputs": [],
   "source": [
    "thinktank_df = pd.read_csv(\"./data/thinktank_citations_tagged.csv\", index_col=0)"
   ]
  },
  {
   "cell_type": "code",
   "execution_count": 66,
   "id": "c12b09ea",
   "metadata": {},
   "outputs": [],
   "source": [
    "econ_keywords = ['monetary', 'inflation', 'Fed', 'Federal Reserve', 'labor market', 'labor union',\n",
    "                 'labor', 'tax', 'taxes', 'taxation', 'banking', 'banks', 'finance', 'financial']\n",
    "\n",
    "education_keywords = ['school', 'schools', 'education', 'college', 'university', 'universities', 'teacher',\n",
    "                     'teachers', 'kindergarten', 'students', 'student']\n",
    "\n",
    "health_keywords = ['health insurance', 'Medicare', 'hospital', 'hospitals', 'medicine', 'health care', \n",
    "                   'doctor', 'doctors']\n",
    "\n",
    "politics_keywords = ['Democrat', 'Republican', 'Senate', 'The House', 'caucus', 'Congress', 'bill', 'legislation']"
   ]
  },
  {
   "cell_type": "code",
   "execution_count": 67,
   "id": "926bd528",
   "metadata": {},
   "outputs": [],
   "source": [
    "def tag_keywords(txt, keyword_list):\n",
    "    txt = txt.lower()\n",
    "    for keyword in keyword_list:\n",
    "        if keyword.lower() in txt:\n",
    "            return 1\n",
    "    return 0"
   ]
  },
  {
   "cell_type": "code",
   "execution_count": 68,
   "id": "74cd03d0",
   "metadata": {},
   "outputs": [],
   "source": [
    "# economy topics\n",
    "thinktank_df['econ_keyword'] = thinktank_df['sentence_clean'].apply(lambda x: tag_keywords(x, econ_keywords))\n",
    "# education topics\n",
    "thinktank_df['edu_keyword'] = thinktank_df['sentence_clean'].apply(lambda x: tag_keywords(x, education_keywords))\n",
    "# health topics\n",
    "thinktank_df['health_keyword'] = thinktank_df['sentence_clean'].apply(lambda x: tag_keywords(x, health_keywords))\n",
    "# political topics\n",
    "thinktank_df['pol_keyword'] = thinktank_df['sentence_clean'].apply(lambda x: tag_keywords(x, politics_keywords))"
   ]
  },
  {
   "cell_type": "code",
   "execution_count": 69,
   "id": "2ae19817",
   "metadata": {},
   "outputs": [
    {
     "data": {
      "text/plain": [
       "(849, 4)"
      ]
     },
     "execution_count": 69,
     "metadata": {},
     "output_type": "execute_result"
    }
   ],
   "source": [
    "thinktank_df[thinktank_df.econ_keyword == 1].groupby(['pub', 'year', 'thinktank']) \\\n",
    "    ['title'].count().reset_index().shape"
   ]
  },
  {
   "cell_type": "code",
   "execution_count": 70,
   "id": "3971bbdf",
   "metadata": {},
   "outputs": [
    {
     "data": {
      "text/plain": [
       "(744, 4)"
      ]
     },
     "execution_count": 70,
     "metadata": {},
     "output_type": "execute_result"
    }
   ],
   "source": [
    "thinktank_df[thinktank_df.edu_keyword == 1].groupby(['pub', 'year', 'thinktank']) \\\n",
    "    ['title'].count().reset_index().shape"
   ]
  },
  {
   "cell_type": "code",
   "execution_count": 71,
   "id": "7b4cf438",
   "metadata": {},
   "outputs": [
    {
     "data": {
      "text/plain": [
       "(312, 4)"
      ]
     },
     "execution_count": 71,
     "metadata": {},
     "output_type": "execute_result"
    }
   ],
   "source": [
    "thinktank_df[thinktank_df.health_keyword == 1].groupby(['pub', 'year', 'thinktank']) \\\n",
    "    ['title'].count().reset_index().shape"
   ]
  },
  {
   "cell_type": "code",
   "execution_count": 72,
   "id": "6ae82753",
   "metadata": {
    "scrolled": true
   },
   "outputs": [
    {
     "data": {
      "text/plain": [
       "(868, 4)"
      ]
     },
     "execution_count": 72,
     "metadata": {},
     "output_type": "execute_result"
    }
   ],
   "source": [
    "thinktank_df[thinktank_df.pol_keyword == 1].groupby(['pub', 'year', 'thinktank']) \\\n",
    "    ['title'].count().reset_index().shape"
   ]
  },
  {
   "cell_type": "code",
   "execution_count": 73,
   "id": "a8a92a0a",
   "metadata": {},
   "outputs": [],
   "source": [
    "thinktank_df.to_csv(\"./data/citations_data/thinktank_citations_tagged.csv\")"
   ]
  }
 ],
 "metadata": {
  "kernelspec": {
   "display_name": "Python 3 (ipykernel)",
   "language": "python",
   "name": "python3"
  },
  "language_info": {
   "codemirror_mode": {
    "name": "ipython",
    "version": 3
   },
   "file_extension": ".py",
   "mimetype": "text/x-python",
   "name": "python",
   "nbconvert_exporter": "python",
   "pygments_lexer": "ipython3",
   "version": "3.9.7"
  }
 },
 "nbformat": 4,
 "nbformat_minor": 5
}

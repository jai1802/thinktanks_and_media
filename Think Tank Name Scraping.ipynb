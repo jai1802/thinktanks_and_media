{
 "cells": [
  {
   "cell_type": "code",
   "execution_count": 2,
   "id": "9779ff54",
   "metadata": {},
   "outputs": [],
   "source": [
    "import pandas as pd\n",
    "from bs4 import BeautifulSoup\n",
    "import numpy as np\n",
    "import requests"
   ]
  },
  {
   "cell_type": "markdown",
   "id": "12581814",
   "metadata": {},
   "source": [
    "# Getting List of Think Tanks from Wikipedia"
   ]
  },
  {
   "cell_type": "code",
   "execution_count": 28,
   "id": "a296d940",
   "metadata": {},
   "outputs": [],
   "source": [
    "req = requests.get(\"https://en.wikipedia.org/wiki/List_of_think_tanks_in_the_United_States\")"
   ]
  },
  {
   "cell_type": "code",
   "execution_count": 29,
   "id": "46beb9c1",
   "metadata": {},
   "outputs": [],
   "source": [
    "soup = BeautifulSoup(req.text)"
   ]
  },
  {
   "cell_type": "code",
   "execution_count": 30,
   "id": "c090420b",
   "metadata": {},
   "outputs": [],
   "source": [
    "tt_array=[]\n",
    "for i in soup.findAll('div', {'class':'div-col'}):\n",
    "    for t in i.findAll('li'):\n",
    "        tt_array.append(t.text)"
   ]
  },
  {
   "cell_type": "code",
   "execution_count": 31,
   "id": "0167b16a",
   "metadata": {
    "scrolled": false
   },
   "outputs": [
    {
     "data": {
      "text/plain": [
       "237"
      ]
     },
     "execution_count": 31,
     "metadata": {},
     "output_type": "execute_result"
    }
   ],
   "source": [
    "len(tt_array)"
   ]
  },
  {
   "cell_type": "code",
   "execution_count": 32,
   "id": "149b94e3",
   "metadata": {
    "scrolled": false
   },
   "outputs": [],
   "source": [
    "tt_array[13] = 'Brookings Institution'"
   ]
  },
  {
   "cell_type": "code",
   "execution_count": null,
   "id": "411eef99",
   "metadata": {},
   "outputs": [],
   "source": [
    "df = pd.DataFrame('thinktanks':tt_array)"
   ]
  },
  {
   "attachments": {},
   "cell_type": "markdown",
   "id": "51bbdf28",
   "metadata": {},
   "source": [
    "# Name List to JSON"
   ]
  },
  {
   "cell_type": "code",
   "execution_count": null,
   "id": "1289f206",
   "metadata": {},
   "outputs": [],
   "source": [
    "df = pd.read_csv(\"./data/thinktank_names/thinktank_names.csv\")"
   ]
  },
  {
   "cell_type": "code",
   "execution_count": 8,
   "id": "6d9ca98e",
   "metadata": {},
   "outputs": [],
   "source": [
    "tt_name_dic = {}\n",
    "for i in df.index:\n",
    "    tt_name = df['thinktanks'][i]\n",
    "    name_list = list(df[['name1', 'name2', 'name3']].iloc[i,:])\n",
    "    tt_name_dic[tt_name] = name_list"
   ]
  },
  {
   "cell_type": "code",
   "execution_count": 11,
   "id": "dfb890cb",
   "metadata": {},
   "outputs": [],
   "source": [
    "# writing to json file"
   ]
  },
  {
   "cell_type": "code",
   "execution_count": 9,
   "id": "1d22a4af",
   "metadata": {},
   "outputs": [],
   "source": [
    "import json\n",
    "with open('./data/thinktank_names/tt_names.json', 'w') as f:\n",
    "    json.dump(tt_name_dic, f)"
   ]
  },
  {
   "cell_type": "code",
   "execution_count": null,
   "id": "f7ad0b18",
   "metadata": {},
   "outputs": [],
   "source": []
  }
 ],
 "metadata": {
  "kernelspec": {
   "display_name": "Python 3 (ipykernel)",
   "language": "python",
   "name": "python3"
  },
  "language_info": {
   "codemirror_mode": {
    "name": "ipython",
    "version": 3
   },
   "file_extension": ".py",
   "mimetype": "text/x-python",
   "name": "python",
   "nbconvert_exporter": "python",
   "pygments_lexer": "ipython3",
   "version": "3.10.6"
  }
 },
 "nbformat": 4,
 "nbformat_minor": 5
}

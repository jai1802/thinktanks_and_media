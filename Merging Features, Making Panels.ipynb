{
 "cells": [
  {
   "cell_type": "code",
   "execution_count": 74,
   "id": "cf4ee41b",
   "metadata": {},
   "outputs": [],
   "source": [
    "import pandas as pd\n",
    "import locale\n",
    "import numpy as np"
   ]
  },
  {
   "cell_type": "code",
   "execution_count": 75,
   "id": "0f9f5c8a",
   "metadata": {},
   "outputs": [],
   "source": [
    "df = pd.read_csv(\"./data/citations_data/thinktank_citations_tdm.csv\", index_col=0)\n",
    "tt_df = pd.read_csv(\"./data/thinktank_data/thinktank_features.csv\", index_col=0)"
   ]
  },
  {
   "cell_type": "code",
   "execution_count": 76,
   "id": "543949a8",
   "metadata": {},
   "outputs": [],
   "source": [
    "df['year'] = df['date'].apply(lambda x: pd.to_datetime(x).year)"
   ]
  },
  {
   "cell_type": "code",
   "execution_count": 77,
   "id": "cc075942",
   "metadata": {},
   "outputs": [],
   "source": [
    "panel = df.groupby(['thinktank', 'year', 'pub'])[['title']].count().rename(columns={'title':'num_cites'}).reset_index()"
   ]
  },
  {
   "cell_type": "code",
   "execution_count": 78,
   "id": "f5ead197",
   "metadata": {
    "scrolled": true
   },
   "outputs": [
    {
     "data": {
      "text/html": [
       "<div>\n",
       "<style scoped>\n",
       "    .dataframe tbody tr th:only-of-type {\n",
       "        vertical-align: middle;\n",
       "    }\n",
       "\n",
       "    .dataframe tbody tr th {\n",
       "        vertical-align: top;\n",
       "    }\n",
       "\n",
       "    .dataframe thead th {\n",
       "        text-align: right;\n",
       "    }\n",
       "</style>\n",
       "<table border=\"1\" class=\"dataframe\">\n",
       "  <thead>\n",
       "    <tr style=\"text-align: right;\">\n",
       "      <th></th>\n",
       "      <th>file_path</th>\n",
       "      <th>title</th>\n",
       "      <th>date</th>\n",
       "      <th>sentence</th>\n",
       "      <th>pub</th>\n",
       "      <th>thinktank</th>\n",
       "      <th>year</th>\n",
       "    </tr>\n",
       "  </thead>\n",
       "  <tbody>\n",
       "    <tr>\n",
       "      <th>0</th>\n",
       "      <td>1906329834.xml</td>\n",
       "      <td>Trump Treads Into Feud Between Qatar and Saudis</td>\n",
       "      <td>2017-06-07</td>\n",
       "      <td>\"&lt;/p&gt;&lt;p&gt;Others analysts were more critical, sa...</td>\n",
       "      <td>NYT</td>\n",
       "      <td>Brookings Institution</td>\n",
       "      <td>2017</td>\n",
       "    </tr>\n",
       "    <tr>\n",
       "      <th>1</th>\n",
       "      <td>1928961341.xml</td>\n",
       "      <td>Hartford, With Finances in Disarray, Veers Tow...</td>\n",
       "      <td>2017-08-16</td>\n",
       "      <td>\"&lt;/p&gt;&lt;p&gt;Connecticut has the greatest degree of...</td>\n",
       "      <td>NYT</td>\n",
       "      <td>Lincoln Institute of Land Policy</td>\n",
       "      <td>2017</td>\n",
       "    </tr>\n",
       "    <tr>\n",
       "      <th>2</th>\n",
       "      <td>1785134438.xml</td>\n",
       "      <td>Biden Makes a Surprise Visit to Iraq</td>\n",
       "      <td>2016-04-29</td>\n",
       "      <td>\"Iraqi leaders can't afford to lose that sense...</td>\n",
       "      <td>NYT</td>\n",
       "      <td>Atlantic Council</td>\n",
       "      <td>2016</td>\n",
       "    </tr>\n",
       "    <tr>\n",
       "      <th>3</th>\n",
       "      <td>1875295284.xml</td>\n",
       "      <td>Journalism or Propaganda? A Russian TV Network...</td>\n",
       "      <td>2017-03-09</td>\n",
       "      <td>\"&lt;/p&gt;&lt;p&gt;RT and Sputnik propel those campaigns ...</td>\n",
       "      <td>NYT</td>\n",
       "      <td>Atlantic Council</td>\n",
       "      <td>2017</td>\n",
       "    </tr>\n",
       "    <tr>\n",
       "      <th>4</th>\n",
       "      <td>1875295284.xml</td>\n",
       "      <td>Journalism or Propaganda? A Russian TV Network...</td>\n",
       "      <td>2017-03-09</td>\n",
       "      <td>\"I strongly suspect that RT Deutsch has a triv...</td>\n",
       "      <td>NYT</td>\n",
       "      <td>Council on Foreign Relations</td>\n",
       "      <td>2017</td>\n",
       "    </tr>\n",
       "    <tr>\n",
       "      <th>...</th>\n",
       "      <td>...</td>\n",
       "      <td>...</td>\n",
       "      <td>...</td>\n",
       "      <td>...</td>\n",
       "      <td>...</td>\n",
       "      <td>...</td>\n",
       "      <td>...</td>\n",
       "    </tr>\n",
       "    <tr>\n",
       "      <th>22720</th>\n",
       "      <td>1609088128.xml</td>\n",
       "      <td>And you think your schedule's tight . . .</td>\n",
       "      <td>2014-10-08</td>\n",
       "      <td>A 2010 Pew Research Center poll showed that on...</td>\n",
       "      <td>WP</td>\n",
       "      <td>Pew Research Center</td>\n",
       "      <td>2014</td>\n",
       "    </tr>\n",
       "    <tr>\n",
       "      <th>22721</th>\n",
       "      <td>1902589409.xml</td>\n",
       "      <td>In Europe, Trump continues tout Saudi trip'suc...</td>\n",
       "      <td>2017-05-27</td>\n",
       "      <td>&lt;html&gt;&lt;head&gt;&lt;meta name='ValidationSchema' cont...</td>\n",
       "      <td>WP</td>\n",
       "      <td>RMI</td>\n",
       "      <td>2017</td>\n",
       "    </tr>\n",
       "    <tr>\n",
       "      <th>22722</th>\n",
       "      <td>1902589409.xml</td>\n",
       "      <td>In Europe, Trump continues tout Saudi trip'suc...</td>\n",
       "      <td>2017-05-27</td>\n",
       "      <td>He noted in particular the most expensive item...</td>\n",
       "      <td>WP</td>\n",
       "      <td>Middle East Institute</td>\n",
       "      <td>2017</td>\n",
       "    </tr>\n",
       "    <tr>\n",
       "      <th>22723</th>\n",
       "      <td>1732902263.xml</td>\n",
       "      <td>IAAF bans Russiantrack team</td>\n",
       "      <td>2015-11-14</td>\n",
       "      <td>Among the report's recommendations was a suspe...</td>\n",
       "      <td>WP</td>\n",
       "      <td>American Action Forum</td>\n",
       "      <td>2015</td>\n",
       "    </tr>\n",
       "    <tr>\n",
       "      <th>22724</th>\n",
       "      <td>2083559122.xml</td>\n",
       "      <td>Drone attacks are essentially terrorism by joy...</td>\n",
       "      <td>2018-08-06</td>\n",
       "      <td>&lt;html&gt;&lt;head&gt;&lt;meta name='ValidationSchema' cont...</td>\n",
       "      <td>WP</td>\n",
       "      <td>Belfer Center for Science and International Af...</td>\n",
       "      <td>2018</td>\n",
       "    </tr>\n",
       "  </tbody>\n",
       "</table>\n",
       "<p>22725 rows × 7 columns</p>\n",
       "</div>"
      ],
      "text/plain": [
       "            file_path                                              title  \\\n",
       "0      1906329834.xml    Trump Treads Into Feud Between Qatar and Saudis   \n",
       "1      1928961341.xml  Hartford, With Finances in Disarray, Veers Tow...   \n",
       "2      1785134438.xml               Biden Makes a Surprise Visit to Iraq   \n",
       "3      1875295284.xml  Journalism or Propaganda? A Russian TV Network...   \n",
       "4      1875295284.xml  Journalism or Propaganda? A Russian TV Network...   \n",
       "...               ...                                                ...   \n",
       "22720  1609088128.xml          And you think your schedule's tight . . .   \n",
       "22721  1902589409.xml  In Europe, Trump continues tout Saudi trip'suc...   \n",
       "22722  1902589409.xml  In Europe, Trump continues tout Saudi trip'suc...   \n",
       "22723  1732902263.xml                        IAAF bans Russiantrack team   \n",
       "22724  2083559122.xml  Drone attacks are essentially terrorism by joy...   \n",
       "\n",
       "             date                                           sentence  pub  \\\n",
       "0      2017-06-07  \"</p><p>Others analysts were more critical, sa...  NYT   \n",
       "1      2017-08-16  \"</p><p>Connecticut has the greatest degree of...  NYT   \n",
       "2      2016-04-29  \"Iraqi leaders can't afford to lose that sense...  NYT   \n",
       "3      2017-03-09  \"</p><p>RT and Sputnik propel those campaigns ...  NYT   \n",
       "4      2017-03-09  \"I strongly suspect that RT Deutsch has a triv...  NYT   \n",
       "...           ...                                                ...  ...   \n",
       "22720  2014-10-08  A 2010 Pew Research Center poll showed that on...   WP   \n",
       "22721  2017-05-27  <html><head><meta name='ValidationSchema' cont...   WP   \n",
       "22722  2017-05-27  He noted in particular the most expensive item...   WP   \n",
       "22723  2015-11-14  Among the report's recommendations was a suspe...   WP   \n",
       "22724  2018-08-06  <html><head><meta name='ValidationSchema' cont...   WP   \n",
       "\n",
       "                                               thinktank  year  \n",
       "0                                  Brookings Institution  2017  \n",
       "1                       Lincoln Institute of Land Policy  2017  \n",
       "2                                       Atlantic Council  2016  \n",
       "3                                       Atlantic Council  2017  \n",
       "4                           Council on Foreign Relations  2017  \n",
       "...                                                  ...   ...  \n",
       "22720                                Pew Research Center  2014  \n",
       "22721                                                RMI  2017  \n",
       "22722                              Middle East Institute  2017  \n",
       "22723                              American Action Forum  2015  \n",
       "22724  Belfer Center for Science and International Af...  2018  \n",
       "\n",
       "[22725 rows x 7 columns]"
      ]
     },
     "execution_count": 78,
     "metadata": {},
     "output_type": "execute_result"
    }
   ],
   "source": [
    "df"
   ]
  },
  {
   "cell_type": "code",
   "execution_count": 79,
   "id": "1106a6cc",
   "metadata": {
    "scrolled": true
   },
   "outputs": [],
   "source": [
    "def add_budgets(tt, year):\n",
    "    expenses_str = tt_df[(tt_df.thinktank==tt)][f'exp_{year}'].item()\n",
    "    if pd.isna(expenses_str):\n",
    "        return 0.0\n",
    "    expenses = float(expenses_str.replace(\",\", \"\").split(\".\")[0])\n",
    "    return expenses / 1000000"
   ]
  },
  {
   "cell_type": "code",
   "execution_count": 80,
   "id": "b5c1dd90",
   "metadata": {},
   "outputs": [],
   "source": [
    "def add_age(tt, year):\n",
    "    dob = tt_df[tt_df.thinktank==tt]['year_established'].item()\n",
    "    return (year - dob)"
   ]
  },
  {
   "cell_type": "code",
   "execution_count": 81,
   "id": "a8466e73",
   "metadata": {},
   "outputs": [],
   "source": [
    "def add_lib_or_cons(tt):\n",
    "    cons = tt_df[tt_df.thinktank==tt]['conservative'].item()\n",
    "    lib = tt_df[tt_df.thinktank==tt]['libertarian'].item()\n",
    "    if not lib:\n",
    "        return int(cons)\n",
    "    else:\n",
    "        return int(max(cons, lib))"
   ]
  },
  {
   "cell_type": "code",
   "execution_count": 82,
   "id": "6bb643f0",
   "metadata": {
    "scrolled": true
   },
   "outputs": [],
   "source": [
    "panel['expenses'] = panel.apply(lambda x: add_budgets(x.thinktank, x.year), axis=1)\n",
    "panel['age'] = panel.apply(lambda x: add_age(x.thinktank, x.year), axis=1)\n",
    "panel['con_lib'] = panel.apply(lambda x: add_lib_or_cons(x.thinktank), axis=1)"
   ]
  },
  {
   "cell_type": "code",
   "execution_count": 83,
   "id": "f1089310",
   "metadata": {
    "scrolled": true
   },
   "outputs": [],
   "source": [
    "str_to_float = lambda x: float(x.replace(\",\", \"\").split(\".\")[0]) / 1000000 if not pd.isna(x) else None\n",
    "tt_df['exp_2014'] = tt_df['exp_2014'].apply(str_to_float)\n",
    "tt_df['exp_2015'] = tt_df['exp_2015'].apply(str_to_float)\n",
    "tt_df['exp_2016'] = tt_df['exp_2016'].apply(str_to_float)\n",
    "tt_df['exp_2017'] = tt_df['exp_2017'].apply(str_to_float)\n",
    "tt_df['exp_2018'] = tt_df['exp_2018'].apply(str_to_float)"
   ]
  },
  {
   "cell_type": "code",
   "execution_count": 84,
   "id": "9a30a18c",
   "metadata": {
    "scrolled": true
   },
   "outputs": [
    {
     "name": "stdout",
     "output_type": "stream",
     "text": [
      "exp_2014\n",
      "53.3569416631579 360.87658626806603 190 38 0.0 4870.339928\n",
      "exp_2015\n",
      "54.25438273298428 356.08665419705795 191 37 0.0 4809.182027\n",
      "exp_2016\n",
      "55.49112346874998 362.6929277560591 192 36 0.0 4910.674794\n",
      "exp_2017\n",
      "56.93500014062499 367.1928235791833 192 36 0.0 4957.938735\n",
      "exp_2018\n",
      "58.196963567708345 373.6410025040496 192 36 0.0 5047.673413\n"
     ]
    }
   ],
   "source": [
    "for i in tt_df.columns:\n",
    "    if 'exp' in i:\n",
    "        print(i)\n",
    "        mean = tt_df[i].mean()\n",
    "        std = tt_df[i].std()\n",
    "        count = tt_df[i].notna().sum()\n",
    "        null = tt_df[i].isna().sum()\n",
    "        mini, maxi = tt_df[i].min(), tt_df[i].max()\n",
    "        print(mean, std, count, null, mini, maxi)"
   ]
  },
  {
   "cell_type": "code",
   "execution_count": 22,
   "id": "029e4da1",
   "metadata": {},
   "outputs": [],
   "source": [
    "panel['is_2014'] = panel['year'].apply(lambda x: 1 if x==2014 else 0)\n",
    "panel['is_2015'] = panel['year'].apply(lambda x: 1 if x==2015 else 0)\n",
    "panel['is_2016'] = panel['year'].apply(lambda x: 1 if x==2016 else 0)\n",
    "panel['is_2017'] = panel['year'].apply(lambda x: 1 if x==2017 else 0)\n",
    "panel['is_2018'] = panel['year'].apply(lambda x: 1 if x==2018 else 0)"
   ]
  },
  {
   "cell_type": "code",
   "execution_count": 24,
   "id": "5312c456",
   "metadata": {},
   "outputs": [],
   "source": [
    "panel['event_14'] = panel['is_2014']*panel['con_lib']\n",
    "panel['event_15'] = panel['is_2015']*panel['con_lib']\n",
    "panel['event_16'] = panel['is_2016']*panel['con_lib']\n",
    "panel['event_17'] = panel['is_2017']*panel['con_lib']\n",
    "panel['event_18'] = panel['is_2018']*panel['con_lib']"
   ]
  },
  {
   "cell_type": "code",
   "execution_count": 63,
   "id": "d3cfedf0",
   "metadata": {},
   "outputs": [],
   "source": [
    "x = sum([panel['event_14'], panel['event_15'], panel['event_16'], panel['event_17'], panel['event_18']])"
   ]
  },
  {
   "cell_type": "code",
   "execution_count": 61,
   "id": "de8dbad4",
   "metadata": {},
   "outputs": [],
   "source": [
    "mat = np.matrix([panel['event_14'], panel['event_15'], panel['event_16'], panel['event_17'], panel['event_18']])"
   ]
  },
  {
   "cell_type": "code",
   "execution_count": 56,
   "id": "2a23453d",
   "metadata": {},
   "outputs": [
    {
     "data": {
      "text/plain": [
       "array([[ 1.        , -0.04743397, -0.04645496, -0.04579286, -0.04199878],\n",
       "       [-0.04743397,  1.        , -0.04957973, -0.04887308, -0.04482381],\n",
       "       [-0.04645496, -0.04957973,  1.        , -0.04786437, -0.04389867],\n",
       "       [-0.04579286, -0.04887308, -0.04786437,  1.        , -0.043273  ],\n",
       "       [-0.04199878, -0.04482381, -0.04389867, -0.043273  ,  1.        ]])"
      ]
     },
     "execution_count": 56,
     "metadata": {},
     "output_type": "execute_result"
    }
   ],
   "source": [
    "np.corrcoef(mat)"
   ]
  },
  {
   "cell_type": "code",
   "execution_count": 49,
   "id": "e64e7e97",
   "metadata": {},
   "outputs": [
    {
     "data": {
      "text/plain": [
       "False"
      ]
     },
     "execution_count": 49,
     "metadata": {},
     "output_type": "execute_result"
    }
   ],
   "source": [
    "np.linalg.matrix_rank(mat) == mat.shape[0]"
   ]
  },
  {
   "cell_type": "code",
   "execution_count": 39,
   "id": "1264020c",
   "metadata": {},
   "outputs": [
    {
     "data": {
      "text/plain": [
       "array([[1.        , 0.41185236],\n",
       "       [0.41185236, 1.        ]])"
      ]
     },
     "execution_count": 39,
     "metadata": {},
     "output_type": "execute_result"
    }
   ],
   "source": [
    "np.corrcoef(panel['event_18'], panel['is_2018'])"
   ]
  },
  {
   "cell_type": "code",
   "execution_count": null,
   "id": "1b319d34",
   "metadata": {},
   "outputs": [],
   "source": [
    "panel['event'] = panel['event']"
   ]
  },
  {
   "cell_type": "code",
   "execution_count": 21,
   "id": "82e9c921",
   "metadata": {
    "scrolled": true
   },
   "outputs": [],
   "source": [
    "#panel.to_csv(\"./data/master_panel.csv\")"
   ]
  },
  {
   "cell_type": "code",
   "execution_count": null,
   "id": "fd735cae",
   "metadata": {},
   "outputs": [],
   "source": []
  }
 ],
 "metadata": {
  "kernelspec": {
   "display_name": "Python 3 (ipykernel)",
   "language": "python",
   "name": "python3"
  },
  "language_info": {
   "codemirror_mode": {
    "name": "ipython",
    "version": 3
   },
   "file_extension": ".py",
   "mimetype": "text/x-python",
   "name": "python",
   "nbconvert_exporter": "python",
   "pygments_lexer": "ipython3",
   "version": "3.9.7"
  }
 },
 "nbformat": 4,
 "nbformat_minor": 5
}

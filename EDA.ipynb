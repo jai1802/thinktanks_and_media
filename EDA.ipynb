{
 "cells": [
  {
   "cell_type": "code",
   "execution_count": 2,
   "id": "2462df90",
   "metadata": {},
   "outputs": [],
   "source": [
    "import pandas as pd\n",
    "from bs4 import BeautifulSoup\n",
    "import requests\n",
    "import re\n",
    "import os"
   ]
  },
  {
   "cell_type": "code",
   "execution_count": 20,
   "id": "a307fc65",
   "metadata": {},
   "outputs": [],
   "source": [
    "df = pd.read_csv(\"./data/thinktank_citations_tdm.csv\", index_col=0)"
   ]
  },
  {
   "cell_type": "code",
   "execution_count": 23,
   "id": "856a6342",
   "metadata": {},
   "outputs": [
    {
     "data": {
      "text/plain": [
       "'\"</p><p>Others analysts were more critical, saying the Saudis had exploited Mr. Trump by seizing on the good will generated during his visit to carry out a long-planned move against a smaller neighbor.</p><p>\"The Saudis played Donald Trump like a fiddle,\" said Bruce O. Riedel, a former intelligence analyst who advised Mr. Obama and now works at the Brookings Institution.'"
      ]
     },
     "execution_count": 23,
     "metadata": {},
     "output_type": "execute_result"
    }
   ],
   "source": [
    "df['sentence'][0].strip()"
   ]
  },
  {
   "cell_type": "code",
   "execution_count": 25,
   "id": "d4fbac5d",
   "metadata": {},
   "outputs": [],
   "source": [
    "comp = pd.read_csv(\"./data/components_data/thinktank_citations.csv\")"
   ]
  },
  {
   "cell_type": "code",
   "execution_count": null,
   "id": "a1fa03cf",
   "metadata": {},
   "outputs": [],
   "source": []
  }
 ],
 "metadata": {
  "kernelspec": {
   "display_name": "Python 3 (ipykernel)",
   "language": "python",
   "name": "python3"
  },
  "language_info": {
   "codemirror_mode": {
    "name": "ipython",
    "version": 3
   },
   "file_extension": ".py",
   "mimetype": "text/x-python",
   "name": "python",
   "nbconvert_exporter": "python",
   "pygments_lexer": "ipython3",
   "version": "3.10.6"
  }
 },
 "nbformat": 4,
 "nbformat_minor": 5
}

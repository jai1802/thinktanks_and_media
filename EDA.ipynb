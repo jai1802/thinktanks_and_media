{
 "cells": [
  {
   "cell_type": "code",
   "execution_count": 9,
   "id": "2462df90",
   "metadata": {},
   "outputs": [],
   "source": [
    "import pandas as pd\n",
    "from bs4 import BeautifulSoup\n",
    "import requests\n",
    "import re\n",
    "import os\n",
    "import numpy as np\n",
    "%matplotlib inline\n",
    "import matplotlib.pyplot as plt\n",
    "from matplotlib.patches import Rectangle"
   ]
  },
  {
   "cell_type": "code",
   "execution_count": 10,
   "id": "a307fc65",
   "metadata": {},
   "outputs": [],
   "source": [
    "df = pd.read_csv(\"./data/citations_data/thinktank_citations_tdm.csv\", index_col=0)\n",
    "tt_df = pd.read_csv(\"./data/thinktank_data/thinktank_features.csv\", index_col=0)"
   ]
  },
  {
   "cell_type": "code",
   "execution_count": 3,
   "id": "c86c4447",
   "metadata": {},
   "outputs": [],
   "source": [
    "df['date']=df['date'].apply(lambda x: pd.to_datetime(x))\n",
    "df['year'] = df['date'].apply(lambda x: x.year)"
   ]
  },
  {
   "cell_type": "code",
   "execution_count": 4,
   "id": "efc0d8ae",
   "metadata": {},
   "outputs": [],
   "source": [
    "df['cons'] = df['thinktank'].apply(lambda x: tt_df[tt_df['thinktank']==x]['conservative'].item())\n",
    "df['lib'] = df['thinktank'].apply(lambda x: tt_df[tt_df['thinktank']==x]['libertarian'].item())"
   ]
  },
  {
   "cell_type": "code",
   "execution_count": 5,
   "id": "99b1ed3a",
   "metadata": {},
   "outputs": [],
   "source": [
    "df['cons_lib'] = df.apply(lambda x: max(x.cons, x.lib), axis=1)"
   ]
  },
  {
   "cell_type": "code",
   "execution_count": 6,
   "id": "477be330",
   "metadata": {},
   "outputs": [],
   "source": [
    "panel = df.groupby(['pub', 'year', 'thinktank'])['sentence'].count().reset_index().rename(columns={'sentence':'citations'})"
   ]
  },
  {
   "cell_type": "code",
   "execution_count": 7,
   "id": "1b8c2e46",
   "metadata": {},
   "outputs": [],
   "source": [
    "plt.rcParams['font.family'] = 'serif'"
   ]
  },
  {
   "cell_type": "markdown",
   "id": "a2af6be7",
   "metadata": {},
   "source": [
    "# Most Cited Think Tanks"
   ]
  },
  {
   "cell_type": "code",
   "execution_count": 20,
   "id": "51555272",
   "metadata": {
    "scrolled": true
   },
   "outputs": [],
   "source": [
    "#df.groupby('thinktank')[['title']].count().sort_values(by='title', ascending=False).reset_index().iloc[:20, :]"
   ]
  },
  {
   "cell_type": "markdown",
   "id": "3cecd676",
   "metadata": {},
   "source": [
    "# Distribution of Citations"
   ]
  },
  {
   "cell_type": "code",
   "execution_count": 44,
   "id": "98a719e5",
   "metadata": {},
   "outputs": [
    {
     "data": {
      "text/plain": [
       "<matplotlib.collections.LineCollection at 0x7fca18096be0>"
      ]
     },
     "execution_count": 44,
     "metadata": {},
     "output_type": "execute_result"
    },
    {
     "data": {
      "image/png": "[encoded data removed]",
      "text/plain": [
       "<Figure size 576x360 with 1 Axes>"
      ]
     },
     "metadata": {
      "needs_background": "light"
     },
     "output_type": "display_data"
    }
   ],
   "source": [
    "font = {'fontname':'Helvetica'}\n",
    "# distribution of citations\n",
    "hist_fig, hist_ax  = plt.subplots(figsize=(8, 5))\n",
    "cons_years = df[df['cons_lib']==1]['date']\n",
    "non_cons_years = df[df['cons_lib']==0]['date']\n",
    "colors=['lightcoral', 'darkturquoise']\n",
    "hist_ax.set_xlabel('date')\n",
    "hist_ax.set_ylabel('Number of citations')\n",
    "hist_ax.hist([cons_years, non_cons_years], stacked=True, color=colors, bins=20)\n",
    "\n",
    "handles = [Rectangle((0, 0), 1, 1, color=c, ec=\"k\") for c in colors]\n",
    "hist_ax.legend(handles, ['Conservative/Libertarian', 'Not Conservative or Libertarian']);\n",
    "\n",
    "half_x = pd.to_datetime(\"November 2016\")\n",
    "hist_ax.vlines(half_x, ymin=0, ymax=1300, color='darkslategray', linestyle='-')"
   ]
  },
  {
   "cell_type": "code",
   "execution_count": 45,
   "id": "58b61020",
   "metadata": {},
   "outputs": [],
   "source": [
    "hist_fig.savefig(\"./figures/citation_timeseries_by_political_leaning.png\", dpi=120)"
   ]
  },
  {
   "cell_type": "markdown",
   "id": "86439d2f",
   "metadata": {},
   "source": [
    "# Pie Charts of Political Leaning"
   ]
  },
  {
   "cell_type": "code",
   "execution_count": 133,
   "id": "0390ba65",
   "metadata": {},
   "outputs": [
    {
     "data": {
      "image/png": "[encoded data removed]",
      "text/plain": [
       "<Figure size 432x432 with 1 Axes>"
      ]
     },
     "metadata": {},
     "output_type": "display_data"
    }
   ],
   "source": [
    "pie_fig, pie_ax = plt.subplots(figsize=(6, 6))\n",
    "cons_count = df['cons'].sum()\n",
    "lib_count = df['lib'].sum()\n",
    "other_count = df.shape[0] - df['cons_lib'].sum()\n",
    "pie_ax.pie([cons_count, lib_count, other_count], labels=['Conservative', 'Libertarian', 'Other'], \n",
    "           colors=['lightcoral', 'orange', 'darkturquoise'], autopct='%1.1f%%');"
   ]
  },
  {
   "cell_type": "code",
   "execution_count": 149,
   "id": "f6fb51d5",
   "metadata": {},
   "outputs": [],
   "source": [
    "pie_fig.savefig(\"./figures/pie_chart_political_leaning.png\")"
   ]
  },
  {
   "cell_type": "markdown",
   "id": "8eea0b16",
   "metadata": {},
   "source": [
    "# Topic Distribution"
   ]
  },
  {
   "cell_type": "code",
   "execution_count": 13,
   "id": "69c9df3a",
   "metadata": {},
   "outputs": [],
   "source": [
    "tagged_cite = pd.read_csv(\"./data/citations_data/thinktank_citations_tagged.csv\", index_col=0)"
   ]
  },
  {
   "cell_type": "code",
   "execution_count": 14,
   "id": "f847e44c",
   "metadata": {},
   "outputs": [],
   "source": [
    "econ_count = tagged_cite.econ_keyword.sum()\n",
    "edu_count = tagged_cite.edu_keyword.sum()\n",
    "health_count = tagged_cite.health_keyword.sum()\n",
    "pol_count = tagged_cite.pol_keyword.sum()"
   ]
  },
  {
   "cell_type": "code",
   "execution_count": 24,
   "id": "8d914766",
   "metadata": {},
   "outputs": [],
   "source": [
    "plt.rcParams['font.family'] = 'serif'"
   ]
  },
  {
   "cell_type": "code",
   "execution_count": 27,
   "id": "e79f98df",
   "metadata": {},
   "outputs": [
    {
     "data": {
      "text/plain": [
       "Text(0.5, 0, 'Topic')"
      ]
     },
     "execution_count": 27,
     "metadata": {},
     "output_type": "execute_result"
    },
    {
     "data": {
      "image/png": "[encoded data removed]",
      "text/plain": [
       "<Figure size 576x360 with 1 Axes>"
      ]
     },
     "metadata": {
      "needs_background": "light"
     },
     "output_type": "display_data"
    }
   ],
   "source": [
    "topic_fig, topic_ax = plt.subplots(figsize=(8, 5))\n",
    "topic_ax.bar(x=['Economics', 'Education', 'Health', 'Politics'], height=[econ_count, edu_count, health_count, pol_count],\n",
    "       color='darkturquoise')\n",
    "\n",
    "topic_ax.set_ylabel('number of citations')\n",
    "topic_ax.set_xlabel('Topic')"
   ]
  },
  {
   "cell_type": "code",
   "execution_count": 32,
   "id": "b5e762c1",
   "metadata": {},
   "outputs": [],
   "source": [
    "topic_fig.savefig(\"./figures/citation_distribution_by_topic.png\", dpi=120)"
   ]
  },
  {
   "cell_type": "markdown",
   "id": "91e4e182",
   "metadata": {},
   "source": [
    "# Topic Panel EDA"
   ]
  },
  {
   "cell_type": "code",
   "execution_count": 3,
   "id": "1e9b05ad",
   "metadata": {},
   "outputs": [],
   "source": [
    "econ_df = pd.read_csv(\"./data/panels/econ_panel.csv\")"
   ]
  },
  {
   "cell_type": "code",
   "execution_count": 8,
   "id": "db58a3de",
   "metadata": {},
   "outputs": [
    {
     "data": {
      "text/html": [
       "<div>\n",
       "<style scoped>\n",
       "    .dataframe tbody tr th:only-of-type {\n",
       "        vertical-align: middle;\n",
       "    }\n",
       "\n",
       "    .dataframe tbody tr th {\n",
       "        vertical-align: top;\n",
       "    }\n",
       "\n",
       "    .dataframe thead th {\n",
       "        text-align: right;\n",
       "    }\n",
       "</style>\n",
       "<table border=\"1\" class=\"dataframe\">\n",
       "  <thead>\n",
       "    <tr style=\"text-align: right;\">\n",
       "      <th></th>\n",
       "      <th>thinktank</th>\n",
       "      <th>num_cites</th>\n",
       "    </tr>\n",
       "  </thead>\n",
       "  <tbody>\n",
       "    <tr>\n",
       "      <th>91</th>\n",
       "      <td>National Bureau of Economic Research</td>\n",
       "      <td>15</td>\n",
       "    </tr>\n",
       "    <tr>\n",
       "      <th>37</th>\n",
       "      <td>Committee for a Responsible Federal Budget</td>\n",
       "      <td>15</td>\n",
       "    </tr>\n",
       "    <tr>\n",
       "      <th>102</th>\n",
       "      <td>Peterson Institute for International Economics</td>\n",
       "      <td>15</td>\n",
       "    </tr>\n",
       "    <tr>\n",
       "      <th>19</th>\n",
       "      <td>Center for Automotive Research</td>\n",
       "      <td>15</td>\n",
       "    </tr>\n",
       "    <tr>\n",
       "      <th>18</th>\n",
       "      <td>Center for American Progress</td>\n",
       "      <td>15</td>\n",
       "    </tr>\n",
       "    <tr>\n",
       "      <th>103</th>\n",
       "      <td>Pew Research Center</td>\n",
       "      <td>15</td>\n",
       "    </tr>\n",
       "    <tr>\n",
       "      <th>16</th>\n",
       "      <td>Cato Institute</td>\n",
       "      <td>15</td>\n",
       "    </tr>\n",
       "    <tr>\n",
       "      <th>34</th>\n",
       "      <td>Center on Budget and Policy Priorities</td>\n",
       "      <td>15</td>\n",
       "    </tr>\n",
       "    <tr>\n",
       "      <th>14</th>\n",
       "      <td>Brookings Institution</td>\n",
       "      <td>15</td>\n",
       "    </tr>\n",
       "    <tr>\n",
       "      <th>49</th>\n",
       "      <td>Federation for American Immigration Reform</td>\n",
       "      <td>15</td>\n",
       "    </tr>\n",
       "    <tr>\n",
       "      <th>95</th>\n",
       "      <td>New America</td>\n",
       "      <td>15</td>\n",
       "    </tr>\n",
       "    <tr>\n",
       "      <th>121</th>\n",
       "      <td>Tax Foundation</td>\n",
       "      <td>15</td>\n",
       "    </tr>\n",
       "    <tr>\n",
       "      <th>1</th>\n",
       "      <td>American Enterprise Institute</td>\n",
       "      <td>15</td>\n",
       "    </tr>\n",
       "    <tr>\n",
       "      <th>41</th>\n",
       "      <td>Council on Foreign Relations</td>\n",
       "      <td>15</td>\n",
       "    </tr>\n",
       "    <tr>\n",
       "      <th>131</th>\n",
       "      <td>Urban Institute</td>\n",
       "      <td>15</td>\n",
       "    </tr>\n",
       "    <tr>\n",
       "      <th>46</th>\n",
       "      <td>Economic Policy Institute</td>\n",
       "      <td>15</td>\n",
       "    </tr>\n",
       "    <tr>\n",
       "      <th>38</th>\n",
       "      <td>Competitive Enterprise Institute</td>\n",
       "      <td>14</td>\n",
       "    </tr>\n",
       "    <tr>\n",
       "      <th>106</th>\n",
       "      <td>Public Citizen</td>\n",
       "      <td>14</td>\n",
       "    </tr>\n",
       "    <tr>\n",
       "      <th>13</th>\n",
       "      <td>Bipartisan Policy Center</td>\n",
       "      <td>14</td>\n",
       "    </tr>\n",
       "    <tr>\n",
       "      <th>42</th>\n",
       "      <td>Demos</td>\n",
       "      <td>14</td>\n",
       "    </tr>\n",
       "  </tbody>\n",
       "</table>\n",
       "</div>"
      ],
      "text/plain": [
       "                                          thinktank  num_cites\n",
       "91             National Bureau of Economic Research         15\n",
       "37       Committee for a Responsible Federal Budget         15\n",
       "102  Peterson Institute for International Economics         15\n",
       "19                   Center for Automotive Research         15\n",
       "18                     Center for American Progress         15\n",
       "103                             Pew Research Center         15\n",
       "16                                   Cato Institute         15\n",
       "34           Center on Budget and Policy Priorities         15\n",
       "14                            Brookings Institution         15\n",
       "49       Federation for American Immigration Reform         15\n",
       "95                                      New America         15\n",
       "121                                  Tax Foundation         15\n",
       "1                     American Enterprise Institute         15\n",
       "41                     Council on Foreign Relations         15\n",
       "131                                 Urban Institute         15\n",
       "46                        Economic Policy Institute         15\n",
       "38                 Competitive Enterprise Institute         14\n",
       "106                                  Public Citizen         14\n",
       "13                         Bipartisan Policy Center         14\n",
       "42                                            Demos         14"
      ]
     },
     "execution_count": 8,
     "metadata": {},
     "output_type": "execute_result"
    }
   ],
   "source": [
    "econ_df.groupby(\"thinktank\")['num_cites'].count().reset_index().sort_values('num_cites', ascending=False).iloc[:20]"
   ]
  },
  {
   "cell_type": "code",
   "execution_count": 14,
   "id": "27c302a0",
   "metadata": {},
   "outputs": [
    {
     "data": {
      "text/html": [
       "<div>\n",
       "<style scoped>\n",
       "    .dataframe tbody tr th:only-of-type {\n",
       "        vertical-align: middle;\n",
       "    }\n",
       "\n",
       "    .dataframe tbody tr th {\n",
       "        vertical-align: top;\n",
       "    }\n",
       "\n",
       "    .dataframe thead th {\n",
       "        text-align: right;\n",
       "    }\n",
       "</style>\n",
       "<table border=\"1\" class=\"dataframe\">\n",
       "  <thead>\n",
       "    <tr style=\"text-align: right;\">\n",
       "      <th></th>\n",
       "      <th>thinktank</th>\n",
       "      <th>name1</th>\n",
       "      <th>name2</th>\n",
       "      <th>name3</th>\n",
       "      <th>year_established</th>\n",
       "      <th>conservative</th>\n",
       "      <th>libertarian</th>\n",
       "      <th>special_topic</th>\n",
       "      <th>exp_2014</th>\n",
       "      <th>exp_2015</th>\n",
       "      <th>exp_2016</th>\n",
       "      <th>exp_2017</th>\n",
       "      <th>exp_2018</th>\n",
       "      <th>uni_affiliation</th>\n",
       "      <th>small_org</th>\n",
       "    </tr>\n",
       "  </thead>\n",
       "  <tbody>\n",
       "    <tr>\n",
       "      <th>0</th>\n",
       "      <td>Acton Institute</td>\n",
       "      <td>Acton Institute</td>\n",
       "      <td>NaN</td>\n",
       "      <td>NaN</td>\n",
       "      <td>1990</td>\n",
       "      <td>1.0</td>\n",
       "      <td>1.0</td>\n",
       "      <td>NaN</td>\n",
       "      <td>9,428,238.00</td>\n",
       "      <td>10,416,484.00</td>\n",
       "      <td>9,987,692.00</td>\n",
       "      <td>10,964,910.00</td>\n",
       "      <td>10,887,803.00</td>\n",
       "      <td>0</td>\n",
       "      <td>0</td>\n",
       "    </tr>\n",
       "    <tr>\n",
       "      <th>1</th>\n",
       "      <td>Allegheny Institute for Public Policy</td>\n",
       "      <td>Allegheny Institute for Public Policy</td>\n",
       "      <td>NaN</td>\n",
       "      <td>NaN</td>\n",
       "      <td>1995</td>\n",
       "      <td>1.0</td>\n",
       "      <td>0.0</td>\n",
       "      <td>NaN</td>\n",
       "      <td>480,762.00</td>\n",
       "      <td>499,346.00</td>\n",
       "      <td>523,377.00</td>\n",
       "      <td>592,413.00</td>\n",
       "      <td>595,987.00</td>\n",
       "      <td>0</td>\n",
       "      <td>0</td>\n",
       "    </tr>\n",
       "    <tr>\n",
       "      <th>2</th>\n",
       "      <td>American Action Forum</td>\n",
       "      <td>American Action Forum</td>\n",
       "      <td>AAF</td>\n",
       "      <td>NaN</td>\n",
       "      <td>2009</td>\n",
       "      <td>1.0</td>\n",
       "      <td>0.0</td>\n",
       "      <td>NaN</td>\n",
       "      <td>4,878,999.00</td>\n",
       "      <td>5,145,811.00</td>\n",
       "      <td>5,351,985.00</td>\n",
       "      <td>4,863,097.00</td>\n",
       "      <td>3,942,490.00</td>\n",
       "      <td>0</td>\n",
       "      <td>0</td>\n",
       "    </tr>\n",
       "    <tr>\n",
       "      <th>3</th>\n",
       "      <td>American Civil Rights Union</td>\n",
       "      <td>American Civil Rights Union</td>\n",
       "      <td>NaN</td>\n",
       "      <td>NaN</td>\n",
       "      <td>1998</td>\n",
       "      <td>1.0</td>\n",
       "      <td>0.0</td>\n",
       "      <td>NaN</td>\n",
       "      <td>84,257,642.00</td>\n",
       "      <td>84,257,642.00</td>\n",
       "      <td>84,257,642.00</td>\n",
       "      <td>120,961,465.00</td>\n",
       "      <td>120,961,465.00</td>\n",
       "      <td>0</td>\n",
       "      <td>0</td>\n",
       "    </tr>\n",
       "    <tr>\n",
       "      <th>4</th>\n",
       "      <td>American College of Pediatricians</td>\n",
       "      <td>American College of Pediatricians</td>\n",
       "      <td>NaN</td>\n",
       "      <td>NaN</td>\n",
       "      <td>2002</td>\n",
       "      <td>1.0</td>\n",
       "      <td>0.0</td>\n",
       "      <td>NaN</td>\n",
       "      <td>88,011.00</td>\n",
       "      <td>78,761.00</td>\n",
       "      <td>86,663.00</td>\n",
       "      <td>95,100.00</td>\n",
       "      <td>121,269.00</td>\n",
       "      <td>0</td>\n",
       "      <td>0</td>\n",
       "    </tr>\n",
       "    <tr>\n",
       "      <th>...</th>\n",
       "      <td>...</td>\n",
       "      <td>...</td>\n",
       "      <td>...</td>\n",
       "      <td>...</td>\n",
       "      <td>...</td>\n",
       "      <td>...</td>\n",
       "      <td>...</td>\n",
       "      <td>...</td>\n",
       "      <td>...</td>\n",
       "      <td>...</td>\n",
       "      <td>...</td>\n",
       "      <td>...</td>\n",
       "      <td>...</td>\n",
       "      <td>...</td>\n",
       "      <td>...</td>\n",
       "    </tr>\n",
       "    <tr>\n",
       "      <th>199</th>\n",
       "      <td>Discovery Institute</td>\n",
       "      <td>Discovery Institute</td>\n",
       "      <td>NaN</td>\n",
       "      <td>NaN</td>\n",
       "      <td>1990</td>\n",
       "      <td>1.0</td>\n",
       "      <td>0.0</td>\n",
       "      <td>NaN</td>\n",
       "      <td>4,577,829.00</td>\n",
       "      <td>4,235,611.00</td>\n",
       "      <td>5,325,118.00</td>\n",
       "      <td>5,886,423.00</td>\n",
       "      <td>6,303,202.00</td>\n",
       "      <td>0</td>\n",
       "      <td>0</td>\n",
       "    </tr>\n",
       "    <tr>\n",
       "      <th>212</th>\n",
       "      <td>Property and Environment Research Center (PERC)</td>\n",
       "      <td>Property and Environment Research Center</td>\n",
       "      <td>PERC</td>\n",
       "      <td>NaN</td>\n",
       "      <td>1980</td>\n",
       "      <td>0.0</td>\n",
       "      <td>1.0</td>\n",
       "      <td>NaN</td>\n",
       "      <td>2,269,589.00</td>\n",
       "      <td>2,269,589.00</td>\n",
       "      <td>2,269,589.00</td>\n",
       "      <td>2,350,441.00</td>\n",
       "      <td>2,431,293.00</td>\n",
       "      <td>0</td>\n",
       "      <td>0</td>\n",
       "    </tr>\n",
       "    <tr>\n",
       "      <th>218</th>\n",
       "      <td>Center for Family and Human Rights</td>\n",
       "      <td>Center for Family and Human Rights</td>\n",
       "      <td>NaN</td>\n",
       "      <td>NaN</td>\n",
       "      <td>1997</td>\n",
       "      <td>1.0</td>\n",
       "      <td>0.0</td>\n",
       "      <td>NaN</td>\n",
       "      <td>1,648,441.00</td>\n",
       "      <td>1,791,715.00</td>\n",
       "      <td>1,755,829.00</td>\n",
       "      <td>1,525,155.00</td>\n",
       "      <td>1,318,362.00</td>\n",
       "      <td>0</td>\n",
       "      <td>0</td>\n",
       "    </tr>\n",
       "    <tr>\n",
       "      <th>219</th>\n",
       "      <td>Center for Excellence in Higher Education</td>\n",
       "      <td>Center for Excellence in Higher Education</td>\n",
       "      <td>NaN</td>\n",
       "      <td>NaN</td>\n",
       "      <td>2007</td>\n",
       "      <td>0.0</td>\n",
       "      <td>1.0</td>\n",
       "      <td>NaN</td>\n",
       "      <td>161,921,960.00</td>\n",
       "      <td>172,475,209.00</td>\n",
       "      <td>176,238,510.00</td>\n",
       "      <td>184,139,858.00</td>\n",
       "      <td>197,915,389.00</td>\n",
       "      <td>0</td>\n",
       "      <td>0</td>\n",
       "    </tr>\n",
       "    <tr>\n",
       "      <th>222</th>\n",
       "      <td>Foundation for Rational Economics and Education</td>\n",
       "      <td>Foundation for Rational Economics and Education</td>\n",
       "      <td>NaN</td>\n",
       "      <td>NaN</td>\n",
       "      <td>1976</td>\n",
       "      <td>0.0</td>\n",
       "      <td>1.0</td>\n",
       "      <td>NaN</td>\n",
       "      <td>555,223.00</td>\n",
       "      <td>411,084.00</td>\n",
       "      <td>383,484.00</td>\n",
       "      <td>351,138.00</td>\n",
       "      <td>416,637.00</td>\n",
       "      <td>0</td>\n",
       "      <td>0</td>\n",
       "    </tr>\n",
       "  </tbody>\n",
       "</table>\n",
       "<p>61 rows × 15 columns</p>\n",
       "</div>"
      ],
      "text/plain": [
       "                                           thinktank  \\\n",
       "0                                    Acton Institute   \n",
       "1              Allegheny Institute for Public Policy   \n",
       "2                              American Action Forum   \n",
       "3                        American Civil Rights Union   \n",
       "4                  American College of Pediatricians   \n",
       "..                                               ...   \n",
       "199                              Discovery Institute   \n",
       "212  Property and Environment Research Center (PERC)   \n",
       "218               Center for Family and Human Rights   \n",
       "219        Center for Excellence in Higher Education   \n",
       "222  Foundation for Rational Economics and Education   \n",
       "\n",
       "                                               name1 name2 name3  \\\n",
       "0                                    Acton Institute   NaN   NaN   \n",
       "1              Allegheny Institute for Public Policy   NaN   NaN   \n",
       "2                              American Action Forum   AAF   NaN   \n",
       "3                        American Civil Rights Union   NaN   NaN   \n",
       "4                  American College of Pediatricians   NaN   NaN   \n",
       "..                                               ...   ...   ...   \n",
       "199                              Discovery Institute   NaN   NaN   \n",
       "212         Property and Environment Research Center  PERC   NaN   \n",
       "218               Center for Family and Human Rights   NaN   NaN   \n",
       "219        Center for Excellence in Higher Education   NaN   NaN   \n",
       "222  Foundation for Rational Economics and Education   NaN   NaN   \n",
       "\n",
       "     year_established  conservative  libertarian special_topic  \\\n",
       "0                1990           1.0          1.0           NaN   \n",
       "1                1995           1.0          0.0           NaN   \n",
       "2                2009           1.0          0.0           NaN   \n",
       "3                1998           1.0          0.0           NaN   \n",
       "4                2002           1.0          0.0           NaN   \n",
       "..                ...           ...          ...           ...   \n",
       "199              1990           1.0          0.0           NaN   \n",
       "212              1980           0.0          1.0           NaN   \n",
       "218              1997           1.0          0.0           NaN   \n",
       "219              2007           0.0          1.0           NaN   \n",
       "222              1976           0.0          1.0           NaN   \n",
       "\n",
       "           exp_2014        exp_2015        exp_2016        exp_2017  \\\n",
       "0      9,428,238.00   10,416,484.00    9,987,692.00   10,964,910.00   \n",
       "1        480,762.00      499,346.00      523,377.00      592,413.00   \n",
       "2      4,878,999.00    5,145,811.00    5,351,985.00    4,863,097.00   \n",
       "3     84,257,642.00   84,257,642.00   84,257,642.00  120,961,465.00   \n",
       "4         88,011.00       78,761.00       86,663.00       95,100.00   \n",
       "..              ...             ...             ...             ...   \n",
       "199    4,577,829.00    4,235,611.00    5,325,118.00    5,886,423.00   \n",
       "212    2,269,589.00    2,269,589.00    2,269,589.00    2,350,441.00   \n",
       "218    1,648,441.00    1,791,715.00    1,755,829.00    1,525,155.00   \n",
       "219  161,921,960.00  172,475,209.00  176,238,510.00  184,139,858.00   \n",
       "222      555,223.00      411,084.00      383,484.00      351,138.00   \n",
       "\n",
       "           exp_2018  uni_affiliation  small_org  \n",
       "0     10,887,803.00                0          0  \n",
       "1        595,987.00                0          0  \n",
       "2      3,942,490.00                0          0  \n",
       "3    120,961,465.00                0          0  \n",
       "4        121,269.00                0          0  \n",
       "..              ...              ...        ...  \n",
       "199    6,303,202.00                0          0  \n",
       "212    2,431,293.00                0          0  \n",
       "218    1,318,362.00                0          0  \n",
       "219  197,915,389.00                0          0  \n",
       "222      416,637.00                0          0  \n",
       "\n",
       "[61 rows x 15 columns]"
      ]
     },
     "execution_count": 14,
     "metadata": {},
     "output_type": "execute_result"
    }
   ],
   "source": [
    "tt_df[(tt_df['conservative']==1) | (tt_df['libertarian']==1)]"
   ]
  },
  {
   "cell_type": "code",
   "execution_count": null,
   "id": "a7d8a2db",
   "metadata": {},
   "outputs": [],
   "source": []
  }
 ],
 "metadata": {
  "kernelspec": {
   "display_name": "Python 3 (ipykernel)",
   "language": "python",
   "name": "python3"
  },
  "language_info": {
   "codemirror_mode": {
    "name": "ipython",
    "version": 3
   },
   "file_extension": ".py",
   "mimetype": "text/x-python",
   "name": "python",
   "nbconvert_exporter": "python",
   "pygments_lexer": "ipython3",
   "version": "3.9.7"
  }
 },
 "nbformat": 4,
 "nbformat_minor": 5
}

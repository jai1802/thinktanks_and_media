{
 "cells": [
  {
   "cell_type": "code",
   "execution_count": 140,
   "id": "b7fd042a",
   "metadata": {},
   "outputs": [],
   "source": [
    "import pandas as pd\n",
    "import re"
   ]
  },
  {
   "cell_type": "code",
   "execution_count": 114,
   "id": "bb391686",
   "metadata": {},
   "outputs": [],
   "source": [
    "thinktank_df = pd.read_csv(\"./data/thinktank_citations_tdm.csv\", index_col=0)"
   ]
  },
  {
   "cell_type": "markdown",
   "id": "45127bd1",
   "metadata": {},
   "source": [
    "# Data Cleaning"
   ]
  },
  {
   "cell_type": "code",
   "execution_count": 164,
   "id": "b86c3633",
   "metadata": {},
   "outputs": [
    {
     "data": {
      "text/plain": [
       "'asf.'"
      ]
     },
     "execution_count": 164,
     "metadata": {},
     "output_type": "execute_result"
    }
   ],
   "source": [
    "'asf.  '.strip()"
   ]
  },
  {
   "cell_type": "code",
   "execution_count": 165,
   "id": "5c0c26b7",
   "metadata": {},
   "outputs": [],
   "source": [
    "def remove_html_tags(text):\n",
    "    clean = re.compile('<.*?>')\n",
    "    no_tags = re.sub(clean, '', text)\n",
    "    return no_tags.strip()"
   ]
  },
  {
   "cell_type": "code",
   "execution_count": 168,
   "id": "25930fe7",
   "metadata": {},
   "outputs": [],
   "source": [
    "thinktank_df['sentence_clean'] = thinktank_df['sentence'].apply(remove_html_tags)"
   ]
  },
  {
   "cell_type": "code",
   "execution_count": 117,
   "id": "1126ade6",
   "metadata": {},
   "outputs": [],
   "source": [
    "thinktank_df['year']=pd.to_datetime(thinktank_df['date']).apply(lambda x: x.year)"
   ]
  },
  {
   "cell_type": "markdown",
   "id": "dbba99ad",
   "metadata": {},
   "source": [
    "# Topic Tagging w/ Keywords"
   ]
  },
  {
   "cell_type": "markdown",
   "id": "655f8138",
   "metadata": {},
   "source": [
    "## International Country Mentions"
   ]
  },
  {
   "cell_type": "code",
   "execution_count": 118,
   "id": "78300f6a",
   "metadata": {},
   "outputs": [],
   "source": [
    "import pycountry"
   ]
  },
  {
   "cell_type": "code",
   "execution_count": 119,
   "id": "38a6be27",
   "metadata": {},
   "outputs": [],
   "source": [
    "nlp = spacy.load(\"en_core_web_sm\")"
   ]
  },
  {
   "cell_type": "code",
   "execution_count": 120,
   "id": "b0944e49",
   "metadata": {},
   "outputs": [],
   "source": [
    "def get_international(txt):\n",
    "    doc = nlp(txt)\n",
    "    for ent in doc.ents:\n",
    "        if ent.label_ == 'GPE':\n",
    "            try:\n",
    "                match = pycountry.countries.search_fuzzy(ent.text)[0].name\n",
    "                if match == 'United States' or match == 'Virgin Islands, U.S.':\n",
    "                    continue\n",
    "                return match\n",
    "            except:\n",
    "                continue"
   ]
  },
  {
   "cell_type": "code",
   "execution_count": 121,
   "id": "11d7bf2d",
   "metadata": {},
   "outputs": [],
   "source": [
    "thinktank_df['international_mention'] = thinktank_df['sentence_clean'].apply(get_international)"
   ]
  },
  {
   "cell_type": "code",
   "execution_count": 122,
   "id": "fb03dbf3",
   "metadata": {},
   "outputs": [],
   "source": [
    "thinktank_df.to_csv(\"./data/thinktank_citations_tagged.csv\")"
   ]
  },
  {
   "cell_type": "markdown",
   "id": "558102d4",
   "metadata": {},
   "source": [
    "## Tagging Other Topics"
   ]
  },
  {
   "cell_type": "code",
   "execution_count": 167,
   "id": "5b5c5b91",
   "metadata": {},
   "outputs": [],
   "source": [
    "thinktank_df = pd.read_csv(\"./data/thinktank_citations_tagged.csv\", index_col=0)"
   ]
  },
  {
   "cell_type": "code",
   "execution_count": 180,
   "id": "c12b09ea",
   "metadata": {},
   "outputs": [],
   "source": [
    "econ_keywords = ['monetary', 'inflation', 'Fed', 'Federal Reserve', 'labor market', 'labor union',\n",
    "                 'labor', 'tax', 'taxes', 'taxation', 'banking', 'banks', 'finance', 'financial']\n",
    "\n",
    "education_keywords = ['school', 'schools', 'education', 'college', 'university', 'universities', 'teacher',\n",
    "                     'teachers', 'kindergarten', 'students', 'student']\n",
    "\n",
    "health_keywords = ['health insurance', 'Medicare', 'hospital', 'hospitals', 'medicine', 'health care', \n",
    "                   'doctor', 'doctors']\n",
    "\n",
    "politics_keywords = ['Democrat', 'Republican', 'Senate', 'The House', 'caucus', 'Congress', 'bill', 'legislation']"
   ]
  },
  {
   "cell_type": "code",
   "execution_count": 181,
   "id": "926bd528",
   "metadata": {},
   "outputs": [],
   "source": [
    "def tag_keywords(txt, keyword_list):\n",
    "    txt = txt.lower()\n",
    "    for keyword in keyword_list:\n",
    "        if keyword.lower() in txt:\n",
    "            return 1\n",
    "    return 0"
   ]
  },
  {
   "cell_type": "code",
   "execution_count": 182,
   "id": "74cd03d0",
   "metadata": {},
   "outputs": [],
   "source": [
    "# economy topics\n",
    "thinktank_df['econ_keyword'] = thinktank_df['sentence_clean'].apply(lambda x: tag_keywords(x, econ_keywords))\n",
    "# education topics\n",
    "thinktank_df['edu_keyword'] = thinktank_df['sentence_clean'].apply(lambda x: tag_keywords(x, education_keywords))\n",
    "# health topics\n",
    "thinktank_df['health_keyword'] = thinktank_df['sentence_clean'].apply(lambda x: tag_keywords(x, health_keywords))\n",
    "# political topics\n",
    "thinktank_df['pol_keyword'] = thinktank_df['sentence_clean'].apply(lambda x: tag_keywords(x, politics_keywords))"
   ]
  },
  {
   "cell_type": "code",
   "execution_count": 183,
   "id": "2ae19817",
   "metadata": {},
   "outputs": [
    {
     "data": {
      "text/plain": [
       "(854, 4)"
      ]
     },
     "execution_count": 183,
     "metadata": {},
     "output_type": "execute_result"
    }
   ],
   "source": [
    "thinktank_df[thinktank_df.econ_keyword == 1].groupby(['pub', 'year', 'thinktank']) \\\n",
    "    ['title'].count().reset_index().shape"
   ]
  },
  {
   "cell_type": "code",
   "execution_count": 184,
   "id": "3971bbdf",
   "metadata": {},
   "outputs": [
    {
     "data": {
      "text/plain": [
       "(744, 4)"
      ]
     },
     "execution_count": 184,
     "metadata": {},
     "output_type": "execute_result"
    }
   ],
   "source": [
    "thinktank_df[thinktank_df.edu_keyword == 1].groupby(['pub', 'year', 'thinktank']) \\\n",
    "    ['title'].count().reset_index().shape"
   ]
  },
  {
   "cell_type": "code",
   "execution_count": 185,
   "id": "7b4cf438",
   "metadata": {},
   "outputs": [
    {
     "data": {
      "text/plain": [
       "(312, 4)"
      ]
     },
     "execution_count": 185,
     "metadata": {},
     "output_type": "execute_result"
    }
   ],
   "source": [
    "thinktank_df[thinktank_df.health_keyword == 1].groupby(['pub', 'year', 'thinktank']) \\\n",
    "    ['title'].count().reset_index().shape"
   ]
  },
  {
   "cell_type": "code",
   "execution_count": 186,
   "id": "6ae82753",
   "metadata": {},
   "outputs": [
    {
     "data": {
      "text/plain": [
       "(876, 4)"
      ]
     },
     "execution_count": 186,
     "metadata": {},
     "output_type": "execute_result"
    }
   ],
   "source": [
    "thinktank_df[thinktank_df.pol_keyword == 1].groupby(['pub', 'year', 'thinktank']) \\\n",
    "    ['title'].count().reset_index().shape"
   ]
  },
  {
   "cell_type": "code",
   "execution_count": 157,
   "id": "a8a92a0a",
   "metadata": {},
   "outputs": [],
   "source": [
    "thinktank_df.to_csv(\"./data/thinktank_citations_tagged.csv\")"
   ]
  },
  {
   "cell_type": "code",
   "execution_count": 191,
   "id": "7894a7a1",
   "metadata": {},
   "outputs": [
    {
     "data": {
      "text/html": [
       "<div>\n",
       "<style scoped>\n",
       "    .dataframe tbody tr th:only-of-type {\n",
       "        vertical-align: middle;\n",
       "    }\n",
       "\n",
       "    .dataframe tbody tr th {\n",
       "        vertical-align: top;\n",
       "    }\n",
       "\n",
       "    .dataframe thead th {\n",
       "        text-align: right;\n",
       "    }\n",
       "</style>\n",
       "<table border=\"1\" class=\"dataframe\">\n",
       "  <thead>\n",
       "    <tr style=\"text-align: right;\">\n",
       "      <th></th>\n",
       "      <th>file_path</th>\n",
       "      <th>title</th>\n",
       "      <th>date</th>\n",
       "      <th>sentence</th>\n",
       "      <th>pub</th>\n",
       "      <th>thinktank</th>\n",
       "      <th>sentence_clean</th>\n",
       "      <th>year</th>\n",
       "      <th>international_mention</th>\n",
       "      <th>econ_keyword</th>\n",
       "      <th>edu_keyword</th>\n",
       "      <th>health_keyword</th>\n",
       "      <th>pol_keyword</th>\n",
       "    </tr>\n",
       "  </thead>\n",
       "  <tbody>\n",
       "    <tr>\n",
       "      <th>17646</th>\n",
       "      <td>2025249733.xml</td>\n",
       "      <td>Muslim American candidates hope for 'sweet jus...</td>\n",
       "      <td>2018-04-16</td>\n",
       "      <td>By last year, just 8 percent of voting America...</td>\n",
       "      <td>WP</td>\n",
       "      <td>Pew Research Center</td>\n",
       "      <td>By last year, just 8 percent of voting America...</td>\n",
       "      <td>2018</td>\n",
       "      <td>NaN</td>\n",
       "      <td>0</td>\n",
       "      <td>1</td>\n",
       "      <td>0</td>\n",
       "      <td>1</td>\n",
       "    </tr>\n",
       "  </tbody>\n",
       "</table>\n",
       "</div>"
      ],
      "text/plain": [
       "            file_path                                              title  \\\n",
       "17646  2025249733.xml  Muslim American candidates hope for 'sweet jus...   \n",
       "\n",
       "             date                                           sentence pub  \\\n",
       "17646  2018-04-16  By last year, just 8 percent of voting America...  WP   \n",
       "\n",
       "                 thinktank                                     sentence_clean  \\\n",
       "17646  Pew Research Center  By last year, just 8 percent of voting America...   \n",
       "\n",
       "       year international_mention  econ_keyword  edu_keyword  health_keyword  \\\n",
       "17646  2018                   NaN             0            1               0   \n",
       "\n",
       "       pol_keyword  \n",
       "17646            1  "
      ]
     },
     "execution_count": 191,
     "metadata": {},
     "output_type": "execute_result"
    }
   ],
   "source": [
    "thinktank_df[thinktank_df.pol_keyword == 1].sample(1)"
   ]
  },
  {
   "cell_type": "code",
   "execution_count": 208,
   "id": "d5885e3e",
   "metadata": {},
   "outputs": [
    {
     "data": {
      "text/plain": [
       "'officials have told some members of Congress that they are certain that Russian hackers were behind the latest breach, two people familiar with these briefings said.              Hackers and spies have long targeted U.S. political parties, but the deliberate leak of party emails and other records this year has created new challenges for law enforcement and intelligence officials as they search for motives and a potential response.              \"The incident itself is unprecedented, but they are trying to follow past precedents in their response,\" such as with Russia\\'s alleged recent hacks on White House and State Department systems, where the full U.S. response isn\\'t known, said Peter Singer, a senior fellow at the New America think tank and an expert on the use of cyberweapons by nation states.              On Friday, after being dormant for a month, Guccifer 2.0 posted a spreadsheet containing the personal cellphone numbers and personal email addresses of close to 200 current and former House Democrats and their senior staff members.              Hours later, WordPress, an online publishing platform, stripped the information off the webpage, saying it violated its privacy policy.'"
      ]
     },
     "execution_count": 208,
     "metadata": {},
     "output_type": "execute_result"
    }
   ],
   "source": [
    "i=thinktank_df[thinktank_df.pol_keyword == 1].sample(1).index\n",
    "thinktank_df[thinktank_df.pol_keyword == 1]['sentence_clean'][i.item()]"
   ]
  },
  {
   "cell_type": "code",
   "execution_count": null,
   "id": "b003a41c",
   "metadata": {},
   "outputs": [],
   "source": []
  }
 ],
 "metadata": {
  "kernelspec": {
   "display_name": "Python 3 (ipykernel)",
   "language": "python",
   "name": "python3"
  },
  "language_info": {
   "codemirror_mode": {
    "name": "ipython",
    "version": 3
   },
   "file_extension": ".py",
   "mimetype": "text/x-python",
   "name": "python",
   "nbconvert_exporter": "python",
   "pygments_lexer": "ipython3",
   "version": "3.9.7"
  }
 },
 "nbformat": 4,
 "nbformat_minor": 5
}

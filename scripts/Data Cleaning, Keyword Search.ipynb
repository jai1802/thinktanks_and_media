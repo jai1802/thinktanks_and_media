{
 "cells": [
  {
   "cell_type": "code",
   "execution_count": null,
   "id": "cf3a15cb",
   "metadata": {},
   "outputs": [],
   "source": [
    "import pandas as pd\n",
    "import re\n",
    "import spacy"
   ]
  },
  {
   "cell_type": "code",
   "execution_count": 8,
   "id": "bb391686",
   "metadata": {},
   "outputs": [],
   "source": [
    "# reading extracted citation data\n",
    "citations_df = pd.read_csv(\"../data/citations_data/thinktank_citations_tdm.csv\", index_col=0)"
   ]
  },
  {
   "cell_type": "markdown",
   "id": "45127bd1",
   "metadata": {},
   "source": [
    "# Data Cleaning\n",
    "Renaming think tanks that operate under larger think tanks, or are different departments of the same think tank"
   ]
  },
  {
   "cell_type": "code",
   "execution_count": 9,
   "id": "22c2b8e9",
   "metadata": {},
   "outputs": [],
   "source": [
    "# 38 North is owned by the Stimson Center\n",
    "citations_df['thinktank'] = thinktank_df['thinktank'].apply(lambda x: 'Henry L. Stimson Center' if x == '38 North' else x)\n",
    "\n",
    "# Progressive Policy Institute is another name for Third Way\n",
    "citations_df['thinktank'] = thinktank_df['thinktank'].apply(lambda x: 'Third Way' if x == 'Progressive Policy Institute' else x)\n",
    "\n",
    "# Global Trade Watch is part of Public Citizen\n",
    "citations_df['thinktank'] = thinktank_df['thinktank'].apply(lambda x: 'Public Citizen' if x == 'Global Trade Watch' else x)\n",
    "\n",
    "# Catholic Family and Human Rights Institute = Center for Family and Human Rights\n",
    "citations_df['thinktank'] = thinktank_df['thinktank'].apply(lambda x: 'Center for Family and Human Rights' if x == 'Catholic Family and Human Rights Institute' else x)\n",
    "\n",
    "# Henry L. Stimson Center = The Stimson Center\n",
    "citations_df['thinktank'] = thinktank_df['thinktank'].apply(lambda x: 'The Stimson Center' if x == 'Henry L. Stimson Center' else x)"
   ]
  },
  {
   "cell_type": "code",
   "execution_count": 4,
   "id": "5c0c26b7",
   "metadata": {},
   "outputs": [],
   "source": [
    "# removing HTML tags from extracted sentences\n",
    "def remove_html_tags(text):\n",
    "    clean = re.compile('<.*?>')\n",
    "    no_tags = re.sub(clean, '', text)\n",
    "    return no_tags.strip()"
   ]
  },
  {
   "cell_type": "code",
   "execution_count": 5,
   "id": "25930fe7",
   "metadata": {},
   "outputs": [],
   "source": [
    "citations_df['sentence_clean'] = citations_df['sentence'].apply(remove_html_tags)"
   ]
  },
  {
   "cell_type": "code",
   "execution_count": 6,
   "id": "1126ade6",
   "metadata": {},
   "outputs": [],
   "source": [
    "# adding year of citation, based on article publication date\n",
    "citations_df['year']=pd.to_datetime(citations_df['date']).apply(lambda x: x.year)"
   ]
  },
  {
   "cell_type": "markdown",
   "id": "dbba99ad",
   "metadata": {},
   "source": [
    "# Topic Tagging w/ Keywords"
   ]
  },
  {
   "cell_type": "markdown",
   "id": "655f8138",
   "metadata": {},
   "source": [
    "## Tagging International Country Mentions\n",
    "If the extracted citation sentence mentions a country name, that citation is classified as 'international'"
   ]
  },
  {
   "cell_type": "code",
   "execution_count": 34,
   "id": "78300f6a",
   "metadata": {},
   "outputs": [],
   "source": [
    "import pycountry"
   ]
  },
  {
   "cell_type": "code",
   "execution_count": 35,
   "id": "38a6be27",
   "metadata": {},
   "outputs": [],
   "source": [
    "nlp = spacy.load(\"en_core_web_sm\")"
   ]
  },
  {
   "cell_type": "code",
   "execution_count": 36,
   "id": "b0944e49",
   "metadata": {},
   "outputs": [],
   "source": [
    "# This function iterates through named Geo-political entities identifiyed by nltk, and uses fuzzy matching\n",
    "# to return a standardized country name, if one is found.\n",
    "def get_international(txt):\n",
    "    doc = nlp(txt)\n",
    "    for ent in doc.ents:\n",
    "        if 'saudi' in txt.lower():\n",
    "            return 'Saudi Arabia'\n",
    "        if ent.label_ == 'GPE':\n",
    "            try:\n",
    "                match = pycountry.countries.search_fuzzy(ent.text)[0].name\n",
    "                if match == 'United States' or match == 'Virgin Islands, U.S.':\n",
    "                    continue\n",
    "                return match\n",
    "            except:\n",
    "                continue"
   ]
  },
  {
   "cell_type": "code",
   "execution_count": 37,
   "id": "11d7bf2d",
   "metadata": {},
   "outputs": [],
   "source": [
    "citations_df['international_mention'] = citations_df['sentence_clean'].apply(get_international)"
   ]
  },
  {
   "cell_type": "code",
   "execution_count": 38,
   "id": "fb03dbf3",
   "metadata": {},
   "outputs": [],
   "source": [
    "citations_df.to_csv(\"../data/citations_data/thinktank_citations_tagged.csv\")"
   ]
  },
  {
   "cell_type": "markdown",
   "id": "558102d4",
   "metadata": {},
   "source": [
    "## Tagging Economics, Health, Education, and Political Topics"
   ]
  },
  {
   "cell_type": "code",
   "execution_count": null,
   "id": "5984da54",
   "metadata": {},
   "outputs": [],
   "source": [
    "citations_df = pd.read_csv(\"../data/thinktank_citations_tagged.csv\", index_col=0)"
   ]
  },
  {
   "cell_type": "code",
   "execution_count": null,
   "id": "c12b09ea",
   "metadata": {},
   "outputs": [],
   "source": [
    "# List of topic-specific keywords to be identified in citation sentences\n",
    "\n",
    "econ_keywords = ['monetary', 'inflation', 'Fed', 'Federal Reserve', 'labor market', 'labor union',\n",
    "                 'labor', 'tax', 'taxes', 'taxation', 'banking', 'banks', 'finance', 'financial']\n",
    "\n",
    "education_keywords = ['school', 'schools', 'education', 'college', 'university', 'universities', 'teacher',\n",
    "                     'teachers', 'kindergarten', 'students', 'student']\n",
    "\n",
    "health_keywords = ['health insurance', 'Medicare', 'hospital', 'hospitals', 'medicine', 'health care', \n",
    "                   'doctor', 'doctors']\n",
    "\n",
    "politics_keywords = ['Democrat', 'Republican', 'Senate', 'The House', 'caucus', 'Congress', 'bill', 'legislation']"
   ]
  },
  {
   "cell_type": "code",
   "execution_count": null,
   "id": "926bd528",
   "metadata": {},
   "outputs": [],
   "source": [
    "# returns 1 if any keywords in keyword_list are identified in the citation sentence (txt), 0 otherwise \n",
    "def tag_keywords(txt, keyword_list):\n",
    "    txt = txt.lower()\n",
    "    for keyword in keyword_list:\n",
    "        if keyword.lower() in txt:\n",
    "            return 1\n",
    "    return 0"
   ]
  },
  {
   "cell_type": "code",
   "execution_count": null,
   "id": "74cd03d0",
   "metadata": {},
   "outputs": [],
   "source": [
    "# Applying tag_keywords for economics, education, health, and politics\n",
    "# economy topics\n",
    "citations_df['econ_keyword'] = thinktank_df['sentence_clean'].apply(lambda x: tag_keywords(x, econ_keywords))\n",
    "# education topics\n",
    "citations_df['edu_keyword'] = thinktank_df['sentence_clean'].apply(lambda x: tag_keywords(x, education_keywords))\n",
    "# health topics\n",
    "citations_df['health_keyword'] = thinktank_df['sentence_clean'].apply(lambda x: tag_keywords(x, health_keywords))\n",
    "# political topics\n",
    "citations_df['pol_keyword'] = thinktank_df['sentence_clean'].apply(lambda x: tag_keywords(x, politics_keywords))"
   ]
  },
  {
   "cell_type": "code",
   "execution_count": null,
   "id": "a8a92a0a",
   "metadata": {},
   "outputs": [],
   "source": [
    "# saving topic-tagged citations dataframe\n",
    "citations_df.to_csv(\"../data/citations_data/thinktank_citations_tagged.csv\")"
   ]
  },
  {
   "cell_type": "code",
   "execution_count": null,
   "id": "d373a641",
   "metadata": {},
   "outputs": [],
   "source": []
  }
 ],
 "metadata": {
  "kernelspec": {
   "display_name": "Python 3 (ipykernel)",
   "language": "python",
   "name": "python3"
  },
  "language_info": {
   "codemirror_mode": {
    "name": "ipython",
    "version": 3
   },
   "file_extension": ".py",
   "mimetype": "text/x-python",
   "name": "python",
   "nbconvert_exporter": "python",
   "pygments_lexer": "ipython3",
   "version": "3.10.6"
  }
 },
 "nbformat": 4,
 "nbformat_minor": 5
}

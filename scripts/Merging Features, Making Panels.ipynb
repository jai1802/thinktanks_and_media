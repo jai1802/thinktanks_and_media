{
 "cells": [
  {
   "cell_type": "code",
   "execution_count": 29,
   "id": "cf4ee41b",
   "metadata": {},
   "outputs": [],
   "source": [
    "import pandas as pd\n",
    "import locale\n",
    "import numpy as np"
   ]
  },
  {
   "cell_type": "code",
   "execution_count": 30,
   "id": "0f9f5c8a",
   "metadata": {},
   "outputs": [],
   "source": [
    "# reading citations data\n",
    "citations_df = pd.read_csv(\"../data/citations_data/thinktank_citations_tagged.csv\", index_col=0)\n",
    "# reading dataframe of think tanks\n",
    "thinktank_df = pd.read_csv(\"../data/thinktank_data/thinktank_features.csv\", index_col=0)"
   ]
  },
  {
   "cell_type": "code",
   "execution_count": 31,
   "id": "28b52d8d",
   "metadata": {},
   "outputs": [
    {
     "data": {
      "text/plain": [
       "(182,)"
      ]
     },
     "execution_count": 31,
     "metadata": {},
     "output_type": "execute_result"
    }
   ],
   "source": [
    "citations_df['thinktank'].unique().shape"
   ]
  },
  {
   "cell_type": "code",
   "execution_count": 32,
   "id": "962741a8",
   "metadata": {},
   "outputs": [],
   "source": [
    "# converting date of publication to year\n",
    "citations_df['year'] = citations_df['date'].apply(lambda x: pd.to_datetime(x).year)"
   ]
  },
  {
   "cell_type": "code",
   "execution_count": 33,
   "id": "cc075942",
   "metadata": {},
   "outputs": [],
   "source": [
    "# making think tank - year - publication level panel from citation data\n",
    "# num_cites: number of citations to think tank during given year from given publication\n",
    "panel = citations_df.groupby(['thinktank', 'year', 'pub'])[['title']] \\\n",
    "    .count().rename(columns={'title':'num_cites'}).reset_index()"
   ]
  },
  {
   "cell_type": "code",
   "execution_count": 1,
   "id": "1106a6cc",
   "metadata": {
    "scrolled": true
   },
   "outputs": [],
   "source": [
    "# Function that takes in think tank name (tt) and year of publication and returns the budget of tt in that year\n",
    "def add_budgets(tt, year):\n",
    "    expenses_str = thinktank_df[(thinktank_df.thinktank==tt)][f'exp_{year}'].item()\n",
    "    if pd.isna(expenses_str):\n",
    "        return 0.0\n",
    "    expenses = float(expenses_str.replace(\",\", \"\").split(\".\")[0])\n",
    "    return expenses / 1000000"
   ]
  },
  {
   "cell_type": "code",
   "execution_count": 2,
   "id": "b5c1dd90",
   "metadata": {},
   "outputs": [],
   "source": [
    "# returns the age of think tank tt during year\n",
    "def add_age(tt, year):\n",
    "    dob = thinktank_df[thinktank_df.thinktank==tt]['year_established'].item()\n",
    "    return (year - dob)"
   ]
  },
  {
   "cell_type": "code",
   "execution_count": 37,
   "id": "a8466e73",
   "metadata": {},
   "outputs": [],
   "source": [
    "# def add_lib_or_cons(tt):\n",
    "#     cons = tt_df[tt_df.thinktank==tt]['conservative'].item()\n",
    "#     lib = tt_df[tt_df.thinktank==tt]['libertarian'].item()\n",
    "#     if not lib:\n",
    "#         return int(cons)\n",
    "#     else:\n",
    "#         return int(max(cons, lib))"
   ]
  },
  {
   "cell_type": "code",
   "execution_count": 3,
   "id": "3aabd5fc",
   "metadata": {},
   "outputs": [],
   "source": [
    "# returns a tuple indicating if think tank tt is conservative or libertarian\n",
    "def add_lib_or_cons(tt):\n",
    "    cons = thinktank_df[thinktank_df.thinktank==tt]['conservative'].item()\n",
    "    lib = thinktank_df[thinktank_df.thinktank==tt]['libertarian'].item()\n",
    "    return (cons, lib)"
   ]
  },
  {
   "cell_type": "code",
   "execution_count": 39,
   "id": "6bb643f0",
   "metadata": {
    "scrolled": true
   },
   "outputs": [],
   "source": [
    "# adding think tank budget as a feature to the panel\n",
    "panel['expenses'] = panel.apply(lambda x: add_budgets(x.thinktank, x.year), axis=1)\n",
    "\n",
    "# adding think tank age as a feature to the panel\n",
    "panel['age'] = panel.apply(lambda x: add_age(x.thinktank, x.year), axis=1)"
   ]
  },
  {
   "cell_type": "code",
   "execution_count": 40,
   "id": "1c287206",
   "metadata": {},
   "outputs": [],
   "source": [
    "con_lib_info = panel.apply(lambda x: add_lib_or_cons(x.thinktank), axis=1)\n",
    "# adding conservative indicator as feature, 1 if think tank is conservative, 0 else\n",
    "panel['conservative'] = con_lib_info.apply(lambda x:x[0])\n",
    "# adding libertarian indicator as feature, 1 if think tank is libertarian, 0 else\n",
    "panel['libertarian'] = con_lib_info.apply(lambda x:x[1])\n",
    "# adding conservative or libertarian indicator as feature, 1 if think tank is conservative or libertarian, 0 else\n",
    "panel['cons_lib'] = con_lib_info.apply(lambda x:max(x[0], x[1]))"
   ]
  },
  {
   "cell_type": "code",
   "execution_count": 42,
   "id": "82e9c921",
   "metadata": {
    "scrolled": true
   },
   "outputs": [],
   "source": [
    "# saving panel\n",
    "panel.to_csv(\"../data/master_panel.csv\")"
   ]
  },
  {
   "cell_type": "markdown",
   "id": "c90bff94",
   "metadata": {},
   "source": [
    "# Making Topic Specific Panels"
   ]
  },
  {
   "cell_type": "code",
   "execution_count": 113,
   "id": "e9f5e9c1",
   "metadata": {},
   "outputs": [],
   "source": [
    "panel = pd.read_csv(\"./data/master_panel.csv\")"
   ]
  },
  {
   "cell_type": "code",
   "execution_count": 85,
   "id": "966a52b7",
   "metadata": {},
   "outputs": [],
   "source": [
    "# iterating over each topic area\n",
    "for topic in ['econ','edu', 'health', 'pol']:\n",
    "    # filtering citation data to only include topic-specific citations\n",
    "    filt_df = citations_df[citations_df[f\"{topic}_keyword\"] == 1]\n",
    "    \n",
    "    # converting filtered dataframe to thinktank-year-publication level panel\n",
    "    topic_panel = filt_df.groupby(['thinktank', 'year', 'pub'])[['title']].count().rename(columns={'title':'num_cites'}).reset_index()\n",
    "    \n",
    "    # adding expenses as feature to topic panel\n",
    "    topic_panel['expenses'] = topic_panel.apply(lambda x: add_budgets(x.thinktank, x.year), axis=1)\n",
    "    \n",
    "    #adding age as feature to topic panel\n",
    "    topic_panel['age'] = topic_panel.apply(lambda x: add_age(x.thinktank, x.year), axis=1)\n",
    "    \n",
    "    # adding indicator = 1 if think tank in topic panel is conservative or libertarian, 0 else\n",
    "    topic_panel['con_lib'] = topic_panel.apply(lambda x: add_lib_or_cons(x.thinktank), axis=1)\n",
    "\n",
    "    # saving topic panel\n",
    "    topic_panel.to_csv(f\"../data/panels/{topic}_panel.csv\")"
   ]
  },
  {
   "cell_type": "code",
   "execution_count": 88,
   "id": "072fc747",
   "metadata": {},
   "outputs": [],
   "source": [
    "econ_panel = pd.read_csv(\"../data/panels/econ_panel.csv\", index_col=0)\n",
    "edu_panel = pd.read_csv(\"../data/panels/edu_panel.csv\", index_col=0)\n",
    "health_panel = pd.read_csv(\"../data/panels/health_panel.csv\", index_col=0)\n",
    "pol_panel = pd.read_csv(\"../data/panels/pol_panel.csv\", index_col=0)"
   ]
  },
  {
   "cell_type": "code",
   "execution_count": null,
   "id": "b2151003",
   "metadata": {},
   "outputs": [],
   "source": []
  }
 ],
 "metadata": {
  "kernelspec": {
   "display_name": "Python 3 (ipykernel)",
   "language": "python",
   "name": "python3"
  },
  "language_info": {
   "codemirror_mode": {
    "name": "ipython",
    "version": 3
   },
   "file_extension": ".py",
   "mimetype": "text/x-python",
   "name": "python",
   "nbconvert_exporter": "python",
   "pygments_lexer": "ipython3",
   "version": "3.10.6"
  }
 },
 "nbformat": 4,
 "nbformat_minor": 5
}

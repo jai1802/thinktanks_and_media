{
 "cells": [
  {
   "cell_type": "code",
   "execution_count": 30,
   "id": "aa8aef78",
   "metadata": {},
   "outputs": [],
   "source": [
    "import pandas as pd\n",
    "import os\n",
    "import re\n",
    "from bs4 import BeautifulSoup\n",
    "import nltk.data\n",
    "import json\n",
    "import numpy as np"
   ]
  },
  {
   "cell_type": "code",
   "execution_count": 15,
   "id": "2cd0116e",
   "metadata": {},
   "outputs": [],
   "source": [
    "# constructing keyword list of reference words\n",
    "saying_list = ['said', 'say', 'explained', 'explains', 'according', 'report', 'replied', 'replies', 'study', 'told', 'tells']"
   ]
  },
  {
   "cell_type": "code",
   "execution_count": 16,
   "id": "10b4a8b2",
   "metadata": {},
   "outputs": [],
   "source": [
    "# loading nltk tokenizer - required punkt tokenizer to be installed\n",
    "tokenizer = nltk.data.load(\"tokenizers/punkt/english.pickle\")"
   ]
  },
  {
   "cell_type": "code",
   "execution_count": 17,
   "id": "2fee7852",
   "metadata": {},
   "outputs": [],
   "source": [
    "# importing dictionary of think tank names and aliases\n",
    "think_tank_dic = json.load(open(\"../data/thinktank_data/tt_names.json\"))"
   ]
  },
  {
   "cell_type": "code",
   "execution_count": 18,
   "id": "2d880a6f",
   "metadata": {},
   "outputs": [],
   "source": [
    "# function takes in body of text and think tank name. Tokenizes text into sentences and returns a sentence\n",
    "# if think tank tt is mentioned\n",
    "def get_sentence(text, tt):\n",
    "    if not text or not isinstance(text, str):\n",
    "        return None\n",
    "    # tokenizing text into sentences\n",
    "    sentences = tokenizer.tokenize(text)\n",
    "    \n",
    "    for s in sentences:\n",
    "        # list of think thank name aliases\n",
    "        known_names = [i for i in think_tank_dic[tt] if isinstance(i, str)] \n",
    "        # returns sentence if think tank or alias is mentioned in sentence along with a 'saying' word\n",
    "        if any([i in s for i in known_names]) and any([said_word in s for said_word in saying_list]):\n",
    "            return s\n",
    "    return None"
   ]
  },
  {
   "cell_type": "code",
   "execution_count": 19,
   "id": "80258397",
   "metadata": {},
   "outputs": [],
   "source": [
    "# setting path to directory containing .xml files of articles - Only available on TDM studio\n",
    "path = \"./data/articles/\""
   ]
  },
  {
   "cell_type": "code",
   "execution_count": 22,
   "id": "ac51ef6b",
   "metadata": {},
   "outputs": [],
   "source": [
    "# takes in article path (stored as xml file) and returns article data: date, title, text, and publication\n",
    "def get_article_info(path):\n",
    "    xml_file = open(path)\n",
    "    soup = BeautifulSoup(xml_file)\n",
    "    date = soup.find('startdate').text\n",
    "    title = soup.find('title').text\n",
    "    text = soup.find('text').text\n",
    "    copyright_text = soup.find('copyright').text\n",
    "    if 'Dow Jones' in copyright_text:\n",
    "        pub = 'WSJ'\n",
    "    elif 'New York' in copyright_text:\n",
    "        pub = 'NYT'\n",
    "    else:\n",
    "        pub = 'WP'\n",
    "    \n",
    "    return (date, title, text, pub)\n",
    "    "
   ]
  },
  {
   "cell_type": "code",
   "execution_count": 23,
   "id": "afcf65e8",
   "metadata": {
    "scrolled": true
   },
   "outputs": [],
   "source": [
    "# instantiating arrays to hold date, title, cited sentence, and name of publication\n",
    "date_arr, title_arr, sentence_arr, pub_arr = [], [], [], []\n",
    "# instantiating array to hold think tank name, file path, and error list\n",
    "tt_arr, path_arr, error_list= [], [], []\n",
    "\n",
    "# reading in list of article paths\n",
    "file_array = os.listdir(path)\n",
    "\n",
    "# iterating over articles\n",
    "for p in file_array:\n",
    "    try:\n",
    "        date, title, text, pub = get_article_info(path + \"/\" + p)\n",
    "        file_path = path + \"/\" + p\n",
    "    except Exception as err:\n",
    "        error_list.append(p)\n",
    "        continue\n",
    "    try:\n",
    "        # iterating over every think tank\n",
    "        for tt in think_tank_dic:\n",
    "            # checking for citations to think tank in article\n",
    "            match = get_sentence(text, tt)\n",
    "            if match:\n",
    "                path_arr.append(p)\n",
    "                title_arr.append(title)\n",
    "                date_arr.append(date)\n",
    "                pub_arr.append(pub)\n",
    "                tt_arr.append(tt)\n",
    "                sentence_arr.append(match)\n",
    "    except Exception as err:\n",
    "        error_list.append(p)\n",
    "        continue"
   ]
  },
  {
   "cell_type": "code",
   "execution_count": 24,
   "id": "b1ea0805",
   "metadata": {},
   "outputs": [],
   "source": [
    "# constructing data frame of citations with article title, date, sentence containing citation, \n",
    "# think tank name, and name of publication\n",
    "df = pd.DataFrame({'file_path':path_arr, 'title':title_arr, 'date':date_arr, 'sentence':sentence_arr, \n",
    "                   'pub':pub_arr, 'thinktank':tt_arr})"
   ]
  },
  {
   "cell_type": "code",
   "execution_count": 26,
   "id": "442db172",
   "metadata": {},
   "outputs": [],
   "source": [
    "# saving citations dataset\n",
    "df.to_csv('../data/citations/thinktank_citations_tdm.csv')"
   ]
  },
  {
   "cell_type": "code",
   "execution_count": null,
   "id": "57d4b1e1",
   "metadata": {},
   "outputs": [],
   "source": []
  }
 ],
 "metadata": {
  "kernelspec": {
   "display_name": "Python 3 (ipykernel)",
   "language": "python",
   "name": "python3"
  },
  "language_info": {
   "codemirror_mode": {
    "name": "ipython",
    "version": 3
   },
   "file_extension": ".py",
   "mimetype": "text/x-python",
   "name": "python",
   "nbconvert_exporter": "python",
   "pygments_lexer": "ipython3",
   "version": "3.10.6"
  }
 },
 "nbformat": 4,
 "nbformat_minor": 5
}
